{
 "cells": [
  {
   "cell_type": "code",
   "execution_count": 1,
   "metadata": {},
   "outputs": [],
   "source": [
    "import pandas as pd\n",
    "from datetime import datetime as dt\n",
    "import numpy as np\n",
    "import matplotlib.pyplot as plt"
   ]
  },
  {
   "cell_type": "code",
   "execution_count": 2,
   "metadata": {},
   "outputs": [],
   "source": [
    "data = pd.read_csv(\"OnlineRetail.csv\", encoding=\"Unicode Escape\")"
   ]
  },
  {
   "cell_type": "code",
   "execution_count": 3,
   "metadata": {},
   "outputs": [
    {
     "data": {
      "text/html": [
       "<div>\n",
       "<style scoped>\n",
       "    .dataframe tbody tr th:only-of-type {\n",
       "        vertical-align: middle;\n",
       "    }\n",
       "\n",
       "    .dataframe tbody tr th {\n",
       "        vertical-align: top;\n",
       "    }\n",
       "\n",
       "    .dataframe thead th {\n",
       "        text-align: right;\n",
       "    }\n",
       "</style>\n",
       "<table border=\"1\" class=\"dataframe\">\n",
       "  <thead>\n",
       "    <tr style=\"text-align: right;\">\n",
       "      <th></th>\n",
       "      <th>Quantity</th>\n",
       "      <th>UnitPrice</th>\n",
       "      <th>CustomerID</th>\n",
       "    </tr>\n",
       "  </thead>\n",
       "  <tbody>\n",
       "    <tr>\n",
       "      <th>count</th>\n",
       "      <td>541909.000000</td>\n",
       "      <td>541909.000000</td>\n",
       "      <td>406829.000000</td>\n",
       "    </tr>\n",
       "    <tr>\n",
       "      <th>mean</th>\n",
       "      <td>9.552250</td>\n",
       "      <td>4.611114</td>\n",
       "      <td>15287.690570</td>\n",
       "    </tr>\n",
       "    <tr>\n",
       "      <th>std</th>\n",
       "      <td>218.081158</td>\n",
       "      <td>96.759853</td>\n",
       "      <td>1713.600303</td>\n",
       "    </tr>\n",
       "    <tr>\n",
       "      <th>min</th>\n",
       "      <td>-80995.000000</td>\n",
       "      <td>-11062.060000</td>\n",
       "      <td>12346.000000</td>\n",
       "    </tr>\n",
       "    <tr>\n",
       "      <th>25%</th>\n",
       "      <td>1.000000</td>\n",
       "      <td>1.250000</td>\n",
       "      <td>13953.000000</td>\n",
       "    </tr>\n",
       "    <tr>\n",
       "      <th>50%</th>\n",
       "      <td>3.000000</td>\n",
       "      <td>2.080000</td>\n",
       "      <td>15152.000000</td>\n",
       "    </tr>\n",
       "    <tr>\n",
       "      <th>75%</th>\n",
       "      <td>10.000000</td>\n",
       "      <td>4.130000</td>\n",
       "      <td>16791.000000</td>\n",
       "    </tr>\n",
       "    <tr>\n",
       "      <th>max</th>\n",
       "      <td>80995.000000</td>\n",
       "      <td>38970.000000</td>\n",
       "      <td>18287.000000</td>\n",
       "    </tr>\n",
       "  </tbody>\n",
       "</table>\n",
       "</div>"
      ],
      "text/plain": [
       "            Quantity      UnitPrice     CustomerID\n",
       "count  541909.000000  541909.000000  406829.000000\n",
       "mean        9.552250       4.611114   15287.690570\n",
       "std       218.081158      96.759853    1713.600303\n",
       "min    -80995.000000  -11062.060000   12346.000000\n",
       "25%         1.000000       1.250000   13953.000000\n",
       "50%         3.000000       2.080000   15152.000000\n",
       "75%        10.000000       4.130000   16791.000000\n",
       "max     80995.000000   38970.000000   18287.000000"
      ]
     },
     "execution_count": 3,
     "metadata": {},
     "output_type": "execute_result"
    }
   ],
   "source": [
    "data.describe()"
   ]
  },
  {
   "cell_type": "code",
   "execution_count": 4,
   "metadata": {},
   "outputs": [
    {
     "data": {
      "text/plain": [
       "InvoiceNo       object\n",
       "StockCode       object\n",
       "Description     object\n",
       "Quantity         int64\n",
       "InvoiceDate     object\n",
       "UnitPrice      float64\n",
       "CustomerID     float64\n",
       "Country         object\n",
       "dtype: object"
      ]
     },
     "execution_count": 4,
     "metadata": {},
     "output_type": "execute_result"
    }
   ],
   "source": [
    "data.dtypes"
   ]
  },
  {
   "cell_type": "code",
   "execution_count": 5,
   "metadata": {},
   "outputs": [],
   "source": [
    "# Converting InvocieData into exact DateTime\n",
    "data[\"InvoiceDate\"] = pd.to_datetime(data[\"InvoiceDate\"], dayfirst=True)"
   ]
  },
  {
   "cell_type": "code",
   "execution_count": 6,
   "metadata": {},
   "outputs": [
    {
     "data": {
      "text/html": [
       "<div>\n",
       "<style scoped>\n",
       "    .dataframe tbody tr th:only-of-type {\n",
       "        vertical-align: middle;\n",
       "    }\n",
       "\n",
       "    .dataframe tbody tr th {\n",
       "        vertical-align: top;\n",
       "    }\n",
       "\n",
       "    .dataframe thead th {\n",
       "        text-align: right;\n",
       "    }\n",
       "</style>\n",
       "<table border=\"1\" class=\"dataframe\">\n",
       "  <thead>\n",
       "    <tr style=\"text-align: right;\">\n",
       "      <th></th>\n",
       "      <th>Quantity</th>\n",
       "      <th>UnitPrice</th>\n",
       "      <th>CustomerID</th>\n",
       "    </tr>\n",
       "  </thead>\n",
       "  <tbody>\n",
       "    <tr>\n",
       "      <th>count</th>\n",
       "      <td>541909.000000</td>\n",
       "      <td>541909.000000</td>\n",
       "      <td>406829.000000</td>\n",
       "    </tr>\n",
       "    <tr>\n",
       "      <th>mean</th>\n",
       "      <td>9.552250</td>\n",
       "      <td>4.611114</td>\n",
       "      <td>15287.690570</td>\n",
       "    </tr>\n",
       "    <tr>\n",
       "      <th>std</th>\n",
       "      <td>218.081158</td>\n",
       "      <td>96.759853</td>\n",
       "      <td>1713.600303</td>\n",
       "    </tr>\n",
       "    <tr>\n",
       "      <th>min</th>\n",
       "      <td>-80995.000000</td>\n",
       "      <td>-11062.060000</td>\n",
       "      <td>12346.000000</td>\n",
       "    </tr>\n",
       "    <tr>\n",
       "      <th>25%</th>\n",
       "      <td>1.000000</td>\n",
       "      <td>1.250000</td>\n",
       "      <td>13953.000000</td>\n",
       "    </tr>\n",
       "    <tr>\n",
       "      <th>50%</th>\n",
       "      <td>3.000000</td>\n",
       "      <td>2.080000</td>\n",
       "      <td>15152.000000</td>\n",
       "    </tr>\n",
       "    <tr>\n",
       "      <th>75%</th>\n",
       "      <td>10.000000</td>\n",
       "      <td>4.130000</td>\n",
       "      <td>16791.000000</td>\n",
       "    </tr>\n",
       "    <tr>\n",
       "      <th>max</th>\n",
       "      <td>80995.000000</td>\n",
       "      <td>38970.000000</td>\n",
       "      <td>18287.000000</td>\n",
       "    </tr>\n",
       "  </tbody>\n",
       "</table>\n",
       "</div>"
      ],
      "text/plain": [
       "            Quantity      UnitPrice     CustomerID\n",
       "count  541909.000000  541909.000000  406829.000000\n",
       "mean        9.552250       4.611114   15287.690570\n",
       "std       218.081158      96.759853    1713.600303\n",
       "min    -80995.000000  -11062.060000   12346.000000\n",
       "25%         1.000000       1.250000   13953.000000\n",
       "50%         3.000000       2.080000   15152.000000\n",
       "75%        10.000000       4.130000   16791.000000\n",
       "max     80995.000000   38970.000000   18287.000000"
      ]
     },
     "execution_count": 6,
     "metadata": {},
     "output_type": "execute_result"
    }
   ],
   "source": [
    "data.describe()"
   ]
  },
  {
   "cell_type": "code",
   "execution_count": 7,
   "metadata": {},
   "outputs": [
    {
     "data": {
      "text/plain": [
       "True     537520\n",
       "False      4389\n",
       "dtype: int64"
      ]
     },
     "execution_count": 7,
     "metadata": {},
     "output_type": "execute_result"
    }
   ],
   "source": [
    "data.duplicated(subset=[\"CustomerID\", \"Country\"]).value_counts()"
   ]
  },
  {
   "cell_type": "code",
   "execution_count": 8,
   "metadata": {},
   "outputs": [
    {
     "data": {
      "text/plain": [
       "(541909, 8)"
      ]
     },
     "execution_count": 8,
     "metadata": {},
     "output_type": "execute_result"
    }
   ],
   "source": [
    "data.shape"
   ]
  },
  {
   "cell_type": "code",
   "execution_count": 9,
   "metadata": {},
   "outputs": [],
   "source": [
    "# Dropping duplicates to improve efficiency!\n",
    "country_customer_data = data[[\"CustomerID\", \"Country\"]].drop_duplicates()"
   ]
  },
  {
   "cell_type": "code",
   "execution_count": 10,
   "metadata": {},
   "outputs": [
    {
     "data": {
      "text/html": [
       "<div>\n",
       "<style scoped>\n",
       "    .dataframe tbody tr th:only-of-type {\n",
       "        vertical-align: middle;\n",
       "    }\n",
       "\n",
       "    .dataframe tbody tr th {\n",
       "        vertical-align: top;\n",
       "    }\n",
       "\n",
       "    .dataframe thead th {\n",
       "        text-align: right;\n",
       "    }\n",
       "</style>\n",
       "<table border=\"1\" class=\"dataframe\">\n",
       "  <thead>\n",
       "    <tr style=\"text-align: right;\">\n",
       "      <th></th>\n",
       "      <th>CustomerID</th>\n",
       "      <th>Country</th>\n",
       "    </tr>\n",
       "  </thead>\n",
       "  <tbody>\n",
       "    <tr>\n",
       "      <th>0</th>\n",
       "      <td>17850.0</td>\n",
       "      <td>United Kingdom</td>\n",
       "    </tr>\n",
       "    <tr>\n",
       "      <th>9</th>\n",
       "      <td>13047.0</td>\n",
       "      <td>United Kingdom</td>\n",
       "    </tr>\n",
       "    <tr>\n",
       "      <th>26</th>\n",
       "      <td>12583.0</td>\n",
       "      <td>France</td>\n",
       "    </tr>\n",
       "    <tr>\n",
       "      <th>46</th>\n",
       "      <td>13748.0</td>\n",
       "      <td>United Kingdom</td>\n",
       "    </tr>\n",
       "    <tr>\n",
       "      <th>65</th>\n",
       "      <td>15100.0</td>\n",
       "      <td>United Kingdom</td>\n",
       "    </tr>\n",
       "  </tbody>\n",
       "</table>\n",
       "</div>"
      ],
      "text/plain": [
       "    CustomerID         Country\n",
       "0      17850.0  United Kingdom\n",
       "9      13047.0  United Kingdom\n",
       "26     12583.0          France\n",
       "46     13748.0  United Kingdom\n",
       "65     15100.0  United Kingdom"
      ]
     },
     "execution_count": 10,
     "metadata": {},
     "output_type": "execute_result"
    }
   ],
   "source": [
    "#After removing duplicated values from customerID and Country\n",
    "country_customer_data.head()"
   ]
  },
  {
   "cell_type": "code",
   "execution_count": 11,
   "metadata": {},
   "outputs": [
    {
     "data": {
      "text/plain": [
       "United Kingdom    3951\n",
       "Germany             95\n",
       "France              88\n",
       "Spain               31\n",
       "Belgium             25\n",
       "Switzerland         22\n",
       "Portugal            20\n",
       "Name: Country, dtype: int64"
      ]
     },
     "execution_count": 11,
     "metadata": {},
     "output_type": "execute_result"
    }
   ],
   "source": [
    "#Displaying the top 7 countries unique values\n",
    "country_customer_data[\"Country\"].value_counts()[:7]"
   ]
  },
  {
   "cell_type": "code",
   "execution_count": 12,
   "metadata": {},
   "outputs": [
    {
     "data": {
      "image/png": "[encoded data removed]",
      "text/plain": [
       "<Figure size 1080x504 with 1 Axes>"
      ]
     },
     "metadata": {},
     "output_type": "display_data"
    }
   ],
   "source": [
    "# Plotting top 7 Customers Data\n",
    "\n",
    "co = [\"Red\", \"Purple\",\"Pink\",\"Brown\",\"Blue\", \"Green\", \"Yellow\"]\n",
    "\n",
    "plt.style.use(\"seaborn\")\n",
    "\n",
    "fig, ax = plt.subplots(figsize = (15,7))\n",
    "\n",
    "ax.bar(country_customer_data[\"Country\"].value_counts()[:7].index,\n",
    "       country_customer_data[\"Country\"].value_counts()[:7],\n",
    "       color = co\n",
    "          )\n",
    "\n",
    "ax.set(title = \"Country VS Customers Plot\",\n",
    "       xlabel = \"Country\",\n",
    "       ylabel = \"Customer\",\n",
    "       ylim = (0,4000))\n",
    "\n",
    "\n",
    "plt.show()"
   ]
  },
  {
   "cell_type": "code",
   "execution_count": 13,
   "metadata": {},
   "outputs": [
    {
     "data": {
      "text/plain": [
       "InvoiceNo                   536365\n",
       "StockCode                    10002\n",
       "Quantity                    -80995\n",
       "InvoiceDate    2010-01-12 08:26:00\n",
       "UnitPrice                 -11062.1\n",
       "CustomerID                   12346\n",
       "Country                  Australia\n",
       "dtype: object"
      ]
     },
     "execution_count": 13,
     "metadata": {},
     "output_type": "execute_result"
    }
   ],
   "source": [
    "#checking the minimum values of each column respectively\n",
    "data.min()"
   ]
  },
  {
   "cell_type": "code",
   "execution_count": 14,
   "metadata": {},
   "outputs": [],
   "source": [
    "# Filtering data for the country having the maximum customers\n",
    "filtered_data = data[data[\"Country\"] == \"United Kingdom\"]"
   ]
  },
  {
   "cell_type": "code",
   "execution_count": 15,
   "metadata": {},
   "outputs": [
    {
     "data": {
      "text/html": [
       "<div>\n",
       "<style scoped>\n",
       "    .dataframe tbody tr th:only-of-type {\n",
       "        vertical-align: middle;\n",
       "    }\n",
       "\n",
       "    .dataframe tbody tr th {\n",
       "        vertical-align: top;\n",
       "    }\n",
       "\n",
       "    .dataframe thead th {\n",
       "        text-align: right;\n",
       "    }\n",
       "</style>\n",
       "<table border=\"1\" class=\"dataframe\">\n",
       "  <thead>\n",
       "    <tr style=\"text-align: right;\">\n",
       "      <th></th>\n",
       "      <th>InvoiceNo</th>\n",
       "      <th>StockCode</th>\n",
       "      <th>Description</th>\n",
       "      <th>Quantity</th>\n",
       "      <th>InvoiceDate</th>\n",
       "      <th>UnitPrice</th>\n",
       "      <th>CustomerID</th>\n",
       "      <th>Country</th>\n",
       "    </tr>\n",
       "  </thead>\n",
       "  <tbody>\n",
       "    <tr>\n",
       "      <th>0</th>\n",
       "      <td>536365</td>\n",
       "      <td>85123A</td>\n",
       "      <td>WHITE HANGING HEART T-LIGHT HOLDER</td>\n",
       "      <td>6</td>\n",
       "      <td>2010-01-12 08:26:00</td>\n",
       "      <td>2.55</td>\n",
       "      <td>17850.0</td>\n",
       "      <td>United Kingdom</td>\n",
       "    </tr>\n",
       "    <tr>\n",
       "      <th>1</th>\n",
       "      <td>536365</td>\n",
       "      <td>71053</td>\n",
       "      <td>WHITE METAL LANTERN</td>\n",
       "      <td>6</td>\n",
       "      <td>2010-01-12 08:26:00</td>\n",
       "      <td>3.39</td>\n",
       "      <td>17850.0</td>\n",
       "      <td>United Kingdom</td>\n",
       "    </tr>\n",
       "    <tr>\n",
       "      <th>2</th>\n",
       "      <td>536365</td>\n",
       "      <td>84406B</td>\n",
       "      <td>CREAM CUPID HEARTS COAT HANGER</td>\n",
       "      <td>8</td>\n",
       "      <td>2010-01-12 08:26:00</td>\n",
       "      <td>2.75</td>\n",
       "      <td>17850.0</td>\n",
       "      <td>United Kingdom</td>\n",
       "    </tr>\n",
       "    <tr>\n",
       "      <th>3</th>\n",
       "      <td>536365</td>\n",
       "      <td>84029G</td>\n",
       "      <td>KNITTED UNION FLAG HOT WATER BOTTLE</td>\n",
       "      <td>6</td>\n",
       "      <td>2010-01-12 08:26:00</td>\n",
       "      <td>3.39</td>\n",
       "      <td>17850.0</td>\n",
       "      <td>United Kingdom</td>\n",
       "    </tr>\n",
       "    <tr>\n",
       "      <th>4</th>\n",
       "      <td>536365</td>\n",
       "      <td>84029E</td>\n",
       "      <td>RED WOOLLY HOTTIE WHITE HEART.</td>\n",
       "      <td>6</td>\n",
       "      <td>2010-01-12 08:26:00</td>\n",
       "      <td>3.39</td>\n",
       "      <td>17850.0</td>\n",
       "      <td>United Kingdom</td>\n",
       "    </tr>\n",
       "  </tbody>\n",
       "</table>\n",
       "</div>"
      ],
      "text/plain": [
       "  InvoiceNo StockCode                          Description  Quantity  \\\n",
       "0    536365    85123A   WHITE HANGING HEART T-LIGHT HOLDER         6   \n",
       "1    536365     71053                  WHITE METAL LANTERN         6   \n",
       "2    536365    84406B       CREAM CUPID HEARTS COAT HANGER         8   \n",
       "3    536365    84029G  KNITTED UNION FLAG HOT WATER BOTTLE         6   \n",
       "4    536365    84029E       RED WOOLLY HOTTIE WHITE HEART.         6   \n",
       "\n",
       "          InvoiceDate  UnitPrice  CustomerID         Country  \n",
       "0 2010-01-12 08:26:00       2.55     17850.0  United Kingdom  \n",
       "1 2010-01-12 08:26:00       3.39     17850.0  United Kingdom  \n",
       "2 2010-01-12 08:26:00       2.75     17850.0  United Kingdom  \n",
       "3 2010-01-12 08:26:00       3.39     17850.0  United Kingdom  \n",
       "4 2010-01-12 08:26:00       3.39     17850.0  United Kingdom  "
      ]
     },
     "execution_count": 15,
     "metadata": {},
     "output_type": "execute_result"
    }
   ],
   "source": [
    "filtered_data.head()"
   ]
  },
  {
   "cell_type": "code",
   "execution_count": 16,
   "metadata": {},
   "outputs": [],
   "source": [
    "# Removing negative quantity value\n",
    "filtered_data = filtered_data[filtered_data[\"Quantity\"] >= 0 ]"
   ]
  },
  {
   "cell_type": "code",
   "execution_count": 17,
   "metadata": {},
   "outputs": [],
   "source": [
    "# Removing the negative values of unit price\n",
    "filtered_data = filtered_data[filtered_data[\"UnitPrice\"] > 0]"
   ]
  },
  {
   "cell_type": "code",
   "execution_count": 18,
   "metadata": {},
   "outputs": [
    {
     "name": "stdout",
     "output_type": "stream",
     "text": [
      "2010-01-12 08:26:00\n",
      "2011-12-10 17:19:00\n"
     ]
    }
   ],
   "source": [
    "print(filtered_data.InvoiceDate.min())\n",
    "print(filtered_data.InvoiceDate.max())"
   ]
  },
  {
   "cell_type": "code",
   "execution_count": 19,
   "metadata": {},
   "outputs": [],
   "source": [
    "#Filtering the 9 Months data\n",
    "customer_9m_data = filtered_data[(filtered_data.InvoiceDate <= dt(2011,12,10)) & (filtered_data.InvoiceDate >= dt(2010,1,12))].reset_index()\n"
   ]
  },
  {
   "cell_type": "code",
   "execution_count": 20,
   "metadata": {},
   "outputs": [
    {
     "name": "stdout",
     "output_type": "stream",
     "text": [
      "696 days 09:32:00\n"
     ]
    }
   ],
   "source": [
    "print(customer_9m_data.InvoiceDate.max()-customer_9m_data.InvoiceDate.min())"
   ]
  },
  {
   "cell_type": "code",
   "execution_count": 21,
   "metadata": {},
   "outputs": [
    {
     "data": {
      "text/html": [
       "<div>\n",
       "<style scoped>\n",
       "    .dataframe tbody tr th:only-of-type {\n",
       "        vertical-align: middle;\n",
       "    }\n",
       "\n",
       "    .dataframe tbody tr th {\n",
       "        vertical-align: top;\n",
       "    }\n",
       "\n",
       "    .dataframe thead th {\n",
       "        text-align: right;\n",
       "    }\n",
       "</style>\n",
       "<table border=\"1\" class=\"dataframe\">\n",
       "  <thead>\n",
       "    <tr style=\"text-align: right;\">\n",
       "      <th></th>\n",
       "      <th>index</th>\n",
       "      <th>InvoiceNo</th>\n",
       "      <th>StockCode</th>\n",
       "      <th>Description</th>\n",
       "      <th>Quantity</th>\n",
       "      <th>InvoiceDate</th>\n",
       "      <th>UnitPrice</th>\n",
       "      <th>CustomerID</th>\n",
       "      <th>Country</th>\n",
       "    </tr>\n",
       "  </thead>\n",
       "  <tbody>\n",
       "    <tr>\n",
       "      <th>0</th>\n",
       "      <td>0</td>\n",
       "      <td>536365</td>\n",
       "      <td>85123A</td>\n",
       "      <td>WHITE HANGING HEART T-LIGHT HOLDER</td>\n",
       "      <td>6</td>\n",
       "      <td>2010-01-12 08:26:00</td>\n",
       "      <td>2.55</td>\n",
       "      <td>17850.0</td>\n",
       "      <td>United Kingdom</td>\n",
       "    </tr>\n",
       "    <tr>\n",
       "      <th>1</th>\n",
       "      <td>1</td>\n",
       "      <td>536365</td>\n",
       "      <td>71053</td>\n",
       "      <td>WHITE METAL LANTERN</td>\n",
       "      <td>6</td>\n",
       "      <td>2010-01-12 08:26:00</td>\n",
       "      <td>3.39</td>\n",
       "      <td>17850.0</td>\n",
       "      <td>United Kingdom</td>\n",
       "    </tr>\n",
       "    <tr>\n",
       "      <th>2</th>\n",
       "      <td>2</td>\n",
       "      <td>536365</td>\n",
       "      <td>84406B</td>\n",
       "      <td>CREAM CUPID HEARTS COAT HANGER</td>\n",
       "      <td>8</td>\n",
       "      <td>2010-01-12 08:26:00</td>\n",
       "      <td>2.75</td>\n",
       "      <td>17850.0</td>\n",
       "      <td>United Kingdom</td>\n",
       "    </tr>\n",
       "    <tr>\n",
       "      <th>3</th>\n",
       "      <td>3</td>\n",
       "      <td>536365</td>\n",
       "      <td>84029G</td>\n",
       "      <td>KNITTED UNION FLAG HOT WATER BOTTLE</td>\n",
       "      <td>6</td>\n",
       "      <td>2010-01-12 08:26:00</td>\n",
       "      <td>3.39</td>\n",
       "      <td>17850.0</td>\n",
       "      <td>United Kingdom</td>\n",
       "    </tr>\n",
       "    <tr>\n",
       "      <th>4</th>\n",
       "      <td>4</td>\n",
       "      <td>536365</td>\n",
       "      <td>84029E</td>\n",
       "      <td>RED WOOLLY HOTTIE WHITE HEART.</td>\n",
       "      <td>6</td>\n",
       "      <td>2010-01-12 08:26:00</td>\n",
       "      <td>3.39</td>\n",
       "      <td>17850.0</td>\n",
       "      <td>United Kingdom</td>\n",
       "    </tr>\n",
       "  </tbody>\n",
       "</table>\n",
       "</div>"
      ],
      "text/plain": [
       "   index InvoiceNo StockCode                          Description  Quantity  \\\n",
       "0      0    536365    85123A   WHITE HANGING HEART T-LIGHT HOLDER         6   \n",
       "1      1    536365     71053                  WHITE METAL LANTERN         6   \n",
       "2      2    536365    84406B       CREAM CUPID HEARTS COAT HANGER         8   \n",
       "3      3    536365    84029G  KNITTED UNION FLAG HOT WATER BOTTLE         6   \n",
       "4      4    536365    84029E       RED WOOLLY HOTTIE WHITE HEART.         6   \n",
       "\n",
       "          InvoiceDate  UnitPrice  CustomerID         Country  \n",
       "0 2010-01-12 08:26:00       2.55     17850.0  United Kingdom  \n",
       "1 2010-01-12 08:26:00       3.39     17850.0  United Kingdom  \n",
       "2 2010-01-12 08:26:00       2.75     17850.0  United Kingdom  \n",
       "3 2010-01-12 08:26:00       3.39     17850.0  United Kingdom  \n",
       "4 2010-01-12 08:26:00       3.39     17850.0  United Kingdom  "
      ]
     },
     "execution_count": 21,
     "metadata": {},
     "output_type": "execute_result"
    }
   ],
   "source": [
    "customer_9m_data.head()"
   ]
  },
  {
   "cell_type": "code",
   "execution_count": 22,
   "metadata": {},
   "outputs": [],
   "source": [
    "# Filtering the required Columns\n",
    "desired_columns_data = customer_9m_data.drop([\"StockCode\", \"Description\",\"Country\"], axis = 1)"
   ]
  },
  {
   "cell_type": "code",
   "execution_count": 23,
   "metadata": {},
   "outputs": [
    {
     "data": {
      "text/plain": [
       "(483394, 6)"
      ]
     },
     "execution_count": 23,
     "metadata": {},
     "output_type": "execute_result"
    }
   ],
   "source": [
    "desired_columns_data.shape"
   ]
  },
  {
   "cell_type": "code",
   "execution_count": 24,
   "metadata": {},
   "outputs": [
    {
     "data": {
      "text/html": [
       "<div>\n",
       "<style scoped>\n",
       "    .dataframe tbody tr th:only-of-type {\n",
       "        vertical-align: middle;\n",
       "    }\n",
       "\n",
       "    .dataframe tbody tr th {\n",
       "        vertical-align: top;\n",
       "    }\n",
       "\n",
       "    .dataframe thead th {\n",
       "        text-align: right;\n",
       "    }\n",
       "</style>\n",
       "<table border=\"1\" class=\"dataframe\">\n",
       "  <thead>\n",
       "    <tr style=\"text-align: right;\">\n",
       "      <th></th>\n",
       "      <th>index</th>\n",
       "      <th>InvoiceNo</th>\n",
       "      <th>Quantity</th>\n",
       "      <th>InvoiceDate</th>\n",
       "      <th>UnitPrice</th>\n",
       "      <th>CustomerID</th>\n",
       "    </tr>\n",
       "  </thead>\n",
       "  <tbody>\n",
       "    <tr>\n",
       "      <th>0</th>\n",
       "      <td>0</td>\n",
       "      <td>536365</td>\n",
       "      <td>6</td>\n",
       "      <td>2010-01-12 08:26:00</td>\n",
       "      <td>2.55</td>\n",
       "      <td>17850.0</td>\n",
       "    </tr>\n",
       "    <tr>\n",
       "      <th>1</th>\n",
       "      <td>1</td>\n",
       "      <td>536365</td>\n",
       "      <td>6</td>\n",
       "      <td>2010-01-12 08:26:00</td>\n",
       "      <td>3.39</td>\n",
       "      <td>17850.0</td>\n",
       "    </tr>\n",
       "    <tr>\n",
       "      <th>2</th>\n",
       "      <td>2</td>\n",
       "      <td>536365</td>\n",
       "      <td>8</td>\n",
       "      <td>2010-01-12 08:26:00</td>\n",
       "      <td>2.75</td>\n",
       "      <td>17850.0</td>\n",
       "    </tr>\n",
       "    <tr>\n",
       "      <th>3</th>\n",
       "      <td>3</td>\n",
       "      <td>536365</td>\n",
       "      <td>6</td>\n",
       "      <td>2010-01-12 08:26:00</td>\n",
       "      <td>3.39</td>\n",
       "      <td>17850.0</td>\n",
       "    </tr>\n",
       "    <tr>\n",
       "      <th>4</th>\n",
       "      <td>4</td>\n",
       "      <td>536365</td>\n",
       "      <td>6</td>\n",
       "      <td>2010-01-12 08:26:00</td>\n",
       "      <td>3.39</td>\n",
       "      <td>17850.0</td>\n",
       "    </tr>\n",
       "  </tbody>\n",
       "</table>\n",
       "</div>"
      ],
      "text/plain": [
       "   index InvoiceNo  Quantity         InvoiceDate  UnitPrice  CustomerID\n",
       "0      0    536365         6 2010-01-12 08:26:00       2.55     17850.0\n",
       "1      1    536365         6 2010-01-12 08:26:00       3.39     17850.0\n",
       "2      2    536365         8 2010-01-12 08:26:00       2.75     17850.0\n",
       "3      3    536365         6 2010-01-12 08:26:00       3.39     17850.0\n",
       "4      4    536365         6 2010-01-12 08:26:00       3.39     17850.0"
      ]
     },
     "execution_count": 24,
     "metadata": {},
     "output_type": "execute_result"
    }
   ],
   "source": [
    "desired_columns_data.head()"
   ]
  },
  {
   "cell_type": "code",
   "execution_count": 25,
   "metadata": {},
   "outputs": [
    {
     "data": {
      "text/plain": [
       "Timestamp('2011-12-09 17:58:00')"
      ]
     },
     "execution_count": 25,
     "metadata": {},
     "output_type": "execute_result"
    }
   ],
   "source": [
    "desired_columns_data.InvoiceDate.max()"
   ]
  },
  {
   "cell_type": "code",
   "execution_count": 26,
   "metadata": {},
   "outputs": [],
   "source": [
    "#calculating the total price through a product of unit price and quantity purchased\n",
    "\n",
    "desired_columns_data['TotalPrice']=desired_columns_data['Quantity']*desired_columns_data['UnitPrice']"
   ]
  },
  {
   "cell_type": "code",
   "execution_count": 27,
   "metadata": {},
   "outputs": [
    {
     "data": {
      "text/plain": [
       "<bound method DataFrame.info of          index InvoiceNo  Quantity         InvoiceDate  UnitPrice  CustomerID  \\\n",
       "0            0    536365         6 2010-01-12 08:26:00       2.55     17850.0   \n",
       "1            1    536365         6 2010-01-12 08:26:00       3.39     17850.0   \n",
       "2            2    536365         8 2010-01-12 08:26:00       2.75     17850.0   \n",
       "3            3    536365         6 2010-01-12 08:26:00       3.39     17850.0   \n",
       "4            4    536365         6 2010-01-12 08:26:00       3.39     17850.0   \n",
       "...        ...       ...       ...                 ...        ...         ...   \n",
       "483389  541889    581585        12 2011-09-12 12:31:00       1.95     15804.0   \n",
       "483390  541890    581586         8 2011-09-12 12:49:00       2.95     13113.0   \n",
       "483391  541891    581586        24 2011-09-12 12:49:00       1.25     13113.0   \n",
       "483392  541892    581586        24 2011-09-12 12:49:00       8.95     13113.0   \n",
       "483393  541893    581586        10 2011-09-12 12:49:00       7.08     13113.0   \n",
       "\n",
       "        TotalPrice  \n",
       "0            15.30  \n",
       "1            20.34  \n",
       "2            22.00  \n",
       "3            20.34  \n",
       "4            20.34  \n",
       "...            ...  \n",
       "483389       23.40  \n",
       "483390       23.60  \n",
       "483391       30.00  \n",
       "483392      214.80  \n",
       "483393       70.80  \n",
       "\n",
       "[483394 rows x 7 columns]>"
      ]
     },
     "execution_count": 27,
     "metadata": {},
     "output_type": "execute_result"
    }
   ],
   "source": [
    "desired_columns_data.info"
   ]
  },
  {
   "cell_type": "code",
   "execution_count": 28,
   "metadata": {},
   "outputs": [],
   "source": [
    "#taken the date next to the last date as in order to calculate the recency\n",
    "present_date=dt(2011,12,11)"
   ]
  },
  {
   "cell_type": "code",
   "execution_count": 29,
   "metadata": {},
   "outputs": [
    {
     "data": {
      "text/plain": [
       "Timedelta('696 days 09:32:00')"
      ]
     },
     "execution_count": 29,
     "metadata": {},
     "output_type": "execute_result"
    }
   ],
   "source": [
    "desired_columns_data.InvoiceDate.max()-desired_columns_data.InvoiceDate.min()"
   ]
  },
  {
   "cell_type": "code",
   "execution_count": 30,
   "metadata": {},
   "outputs": [
    {
     "data": {
      "text/html": [
       "<div>\n",
       "<style scoped>\n",
       "    .dataframe tbody tr th:only-of-type {\n",
       "        vertical-align: middle;\n",
       "    }\n",
       "\n",
       "    .dataframe tbody tr th {\n",
       "        vertical-align: top;\n",
       "    }\n",
       "\n",
       "    .dataframe thead th {\n",
       "        text-align: right;\n",
       "    }\n",
       "</style>\n",
       "<table border=\"1\" class=\"dataframe\">\n",
       "  <thead>\n",
       "    <tr style=\"text-align: right;\">\n",
       "      <th></th>\n",
       "      <th>index</th>\n",
       "      <th>InvoiceNo</th>\n",
       "      <th>Quantity</th>\n",
       "      <th>InvoiceDate</th>\n",
       "      <th>UnitPrice</th>\n",
       "      <th>CustomerID</th>\n",
       "      <th>TotalPrice</th>\n",
       "    </tr>\n",
       "  </thead>\n",
       "  <tbody>\n",
       "    <tr>\n",
       "      <th>0</th>\n",
       "      <td>0</td>\n",
       "      <td>536365</td>\n",
       "      <td>6</td>\n",
       "      <td>2010-01-12 08:26:00</td>\n",
       "      <td>2.55</td>\n",
       "      <td>17850.0</td>\n",
       "      <td>15.30</td>\n",
       "    </tr>\n",
       "    <tr>\n",
       "      <th>1</th>\n",
       "      <td>1</td>\n",
       "      <td>536365</td>\n",
       "      <td>6</td>\n",
       "      <td>2010-01-12 08:26:00</td>\n",
       "      <td>3.39</td>\n",
       "      <td>17850.0</td>\n",
       "      <td>20.34</td>\n",
       "    </tr>\n",
       "    <tr>\n",
       "      <th>2</th>\n",
       "      <td>2</td>\n",
       "      <td>536365</td>\n",
       "      <td>8</td>\n",
       "      <td>2010-01-12 08:26:00</td>\n",
       "      <td>2.75</td>\n",
       "      <td>17850.0</td>\n",
       "      <td>22.00</td>\n",
       "    </tr>\n",
       "    <tr>\n",
       "      <th>3</th>\n",
       "      <td>3</td>\n",
       "      <td>536365</td>\n",
       "      <td>6</td>\n",
       "      <td>2010-01-12 08:26:00</td>\n",
       "      <td>3.39</td>\n",
       "      <td>17850.0</td>\n",
       "      <td>20.34</td>\n",
       "    </tr>\n",
       "    <tr>\n",
       "      <th>4</th>\n",
       "      <td>4</td>\n",
       "      <td>536365</td>\n",
       "      <td>6</td>\n",
       "      <td>2010-01-12 08:26:00</td>\n",
       "      <td>3.39</td>\n",
       "      <td>17850.0</td>\n",
       "      <td>20.34</td>\n",
       "    </tr>\n",
       "  </tbody>\n",
       "</table>\n",
       "</div>"
      ],
      "text/plain": [
       "   index InvoiceNo  Quantity         InvoiceDate  UnitPrice  CustomerID  \\\n",
       "0      0    536365         6 2010-01-12 08:26:00       2.55     17850.0   \n",
       "1      1    536365         6 2010-01-12 08:26:00       3.39     17850.0   \n",
       "2      2    536365         8 2010-01-12 08:26:00       2.75     17850.0   \n",
       "3      3    536365         6 2010-01-12 08:26:00       3.39     17850.0   \n",
       "4      4    536365         6 2010-01-12 08:26:00       3.39     17850.0   \n",
       "\n",
       "   TotalPrice  \n",
       "0       15.30  \n",
       "1       20.34  \n",
       "2       22.00  \n",
       "3       20.34  \n",
       "4       20.34  "
      ]
     },
     "execution_count": 30,
     "metadata": {},
     "output_type": "execute_result"
    }
   ],
   "source": [
    "desired_columns_data.head()"
   ]
  },
  {
   "cell_type": "markdown",
   "metadata": {},
   "source": [
    "# Recency calculation"
   ]
  },
  {
   "cell_type": "code",
   "execution_count": 31,
   "metadata": {},
   "outputs": [],
   "source": [
    "#Fetching the max no of date of each customer\n",
    "rfm=desired_columns_data.groupby('CustomerID').InvoiceDate.max().reset_index()"
   ]
  },
  {
   "cell_type": "code",
   "execution_count": 32,
   "metadata": {},
   "outputs": [],
   "source": [
    "#Changing the name of the columns\n",
    "rfm.columns=['CustomerID','Last_purchase_date']"
   ]
  },
  {
   "cell_type": "code",
   "execution_count": 33,
   "metadata": {},
   "outputs": [
    {
     "data": {
      "text/html": [
       "<div>\n",
       "<style scoped>\n",
       "    .dataframe tbody tr th:only-of-type {\n",
       "        vertical-align: middle;\n",
       "    }\n",
       "\n",
       "    .dataframe tbody tr th {\n",
       "        vertical-align: top;\n",
       "    }\n",
       "\n",
       "    .dataframe thead th {\n",
       "        text-align: right;\n",
       "    }\n",
       "</style>\n",
       "<table border=\"1\" class=\"dataframe\">\n",
       "  <thead>\n",
       "    <tr style=\"text-align: right;\">\n",
       "      <th></th>\n",
       "      <th>CustomerID</th>\n",
       "      <th>Last_purchase_date</th>\n",
       "    </tr>\n",
       "  </thead>\n",
       "  <tbody>\n",
       "    <tr>\n",
       "      <th>0</th>\n",
       "      <td>12346.0</td>\n",
       "      <td>2011-01-18 10:01:00</td>\n",
       "    </tr>\n",
       "    <tr>\n",
       "      <th>1</th>\n",
       "      <td>12747.0</td>\n",
       "      <td>2011-11-17 17:13:00</td>\n",
       "    </tr>\n",
       "    <tr>\n",
       "      <th>2</th>\n",
       "      <td>12748.0</td>\n",
       "      <td>2011-12-05 18:58:00</td>\n",
       "    </tr>\n",
       "    <tr>\n",
       "      <th>3</th>\n",
       "      <td>12749.0</td>\n",
       "      <td>2011-11-17 12:05:00</td>\n",
       "    </tr>\n",
       "    <tr>\n",
       "      <th>4</th>\n",
       "      <td>12820.0</td>\n",
       "      <td>2011-10-26 13:27:00</td>\n",
       "    </tr>\n",
       "  </tbody>\n",
       "</table>\n",
       "</div>"
      ],
      "text/plain": [
       "   CustomerID  Last_purchase_date\n",
       "0     12346.0 2011-01-18 10:01:00\n",
       "1     12747.0 2011-11-17 17:13:00\n",
       "2     12748.0 2011-12-05 18:58:00\n",
       "3     12749.0 2011-11-17 12:05:00\n",
       "4     12820.0 2011-10-26 13:27:00"
      ]
     },
     "execution_count": 33,
     "metadata": {},
     "output_type": "execute_result"
    }
   ],
   "source": [
    "rfm.head()"
   ]
  },
  {
   "cell_type": "code",
   "execution_count": 34,
   "metadata": {},
   "outputs": [],
   "source": [
    "#finding the recency\n",
    "rfm['Recency']=(present_date-rfm['Last_purchase_date']).dt.days"
   ]
  },
  {
   "cell_type": "code",
   "execution_count": 35,
   "metadata": {},
   "outputs": [
    {
     "data": {
      "text/html": [
       "<div>\n",
       "<style scoped>\n",
       "    .dataframe tbody tr th:only-of-type {\n",
       "        vertical-align: middle;\n",
       "    }\n",
       "\n",
       "    .dataframe tbody tr th {\n",
       "        vertical-align: top;\n",
       "    }\n",
       "\n",
       "    .dataframe thead th {\n",
       "        text-align: right;\n",
       "    }\n",
       "</style>\n",
       "<table border=\"1\" class=\"dataframe\">\n",
       "  <thead>\n",
       "    <tr style=\"text-align: right;\">\n",
       "      <th></th>\n",
       "      <th>CustomerID</th>\n",
       "      <th>Last_purchase_date</th>\n",
       "      <th>Recency</th>\n",
       "    </tr>\n",
       "  </thead>\n",
       "  <tbody>\n",
       "    <tr>\n",
       "      <th>0</th>\n",
       "      <td>12346.0</td>\n",
       "      <td>2011-01-18 10:01:00</td>\n",
       "      <td>326</td>\n",
       "    </tr>\n",
       "    <tr>\n",
       "      <th>1</th>\n",
       "      <td>12747.0</td>\n",
       "      <td>2011-11-17 17:13:00</td>\n",
       "      <td>23</td>\n",
       "    </tr>\n",
       "    <tr>\n",
       "      <th>2</th>\n",
       "      <td>12748.0</td>\n",
       "      <td>2011-12-05 18:58:00</td>\n",
       "      <td>5</td>\n",
       "    </tr>\n",
       "    <tr>\n",
       "      <th>3</th>\n",
       "      <td>12749.0</td>\n",
       "      <td>2011-11-17 12:05:00</td>\n",
       "      <td>23</td>\n",
       "    </tr>\n",
       "    <tr>\n",
       "      <th>4</th>\n",
       "      <td>12820.0</td>\n",
       "      <td>2011-10-26 13:27:00</td>\n",
       "      <td>45</td>\n",
       "    </tr>\n",
       "  </tbody>\n",
       "</table>\n",
       "</div>"
      ],
      "text/plain": [
       "   CustomerID  Last_purchase_date  Recency\n",
       "0     12346.0 2011-01-18 10:01:00      326\n",
       "1     12747.0 2011-11-17 17:13:00       23\n",
       "2     12748.0 2011-12-05 18:58:00        5\n",
       "3     12749.0 2011-11-17 12:05:00       23\n",
       "4     12820.0 2011-10-26 13:27:00       45"
      ]
     },
     "execution_count": 35,
     "metadata": {},
     "output_type": "execute_result"
    }
   ],
   "source": [
    "rfm.head()"
   ]
  },
  {
   "cell_type": "code",
   "execution_count": 36,
   "metadata": {},
   "outputs": [],
   "source": [
    "#dropping the column last_purchase_date\n",
    "rfm=rfm.drop(['Last_purchase_date'],axis=1)"
   ]
  },
  {
   "cell_type": "code",
   "execution_count": 37,
   "metadata": {},
   "outputs": [
    {
     "data": {
      "text/html": [
       "<div>\n",
       "<style scoped>\n",
       "    .dataframe tbody tr th:only-of-type {\n",
       "        vertical-align: middle;\n",
       "    }\n",
       "\n",
       "    .dataframe tbody tr th {\n",
       "        vertical-align: top;\n",
       "    }\n",
       "\n",
       "    .dataframe thead th {\n",
       "        text-align: right;\n",
       "    }\n",
       "</style>\n",
       "<table border=\"1\" class=\"dataframe\">\n",
       "  <thead>\n",
       "    <tr style=\"text-align: right;\">\n",
       "      <th></th>\n",
       "      <th>CustomerID</th>\n",
       "      <th>Recency</th>\n",
       "    </tr>\n",
       "  </thead>\n",
       "  <tbody>\n",
       "    <tr>\n",
       "      <th>0</th>\n",
       "      <td>12346.0</td>\n",
       "      <td>326</td>\n",
       "    </tr>\n",
       "    <tr>\n",
       "      <th>1</th>\n",
       "      <td>12747.0</td>\n",
       "      <td>23</td>\n",
       "    </tr>\n",
       "    <tr>\n",
       "      <th>2</th>\n",
       "      <td>12748.0</td>\n",
       "      <td>5</td>\n",
       "    </tr>\n",
       "    <tr>\n",
       "      <th>3</th>\n",
       "      <td>12749.0</td>\n",
       "      <td>23</td>\n",
       "    </tr>\n",
       "    <tr>\n",
       "      <th>4</th>\n",
       "      <td>12820.0</td>\n",
       "      <td>45</td>\n",
       "    </tr>\n",
       "  </tbody>\n",
       "</table>\n",
       "</div>"
      ],
      "text/plain": [
       "   CustomerID  Recency\n",
       "0     12346.0      326\n",
       "1     12747.0       23\n",
       "2     12748.0        5\n",
       "3     12749.0       23\n",
       "4     12820.0       45"
      ]
     },
     "execution_count": 37,
     "metadata": {},
     "output_type": "execute_result"
    }
   ],
   "source": [
    "rfm.head()"
   ]
  },
  {
   "cell_type": "markdown",
   "metadata": {},
   "source": [
    "# Frequency calculation"
   ]
  },
  {
   "cell_type": "code",
   "execution_count": 38,
   "metadata": {},
   "outputs": [],
   "source": [
    "#calculation of the freq\n",
    "freq = desired_columns_data.groupby('CustomerID').InvoiceNo.count().reset_index()"
   ]
  },
  {
   "cell_type": "code",
   "execution_count": 39,
   "metadata": {},
   "outputs": [],
   "source": [
    "#changing name of columns\n",
    "freq.columns=['CustomerID','Frequency']"
   ]
  },
  {
   "cell_type": "code",
   "execution_count": 40,
   "metadata": {},
   "outputs": [
    {
     "data": {
      "text/html": [
       "<div>\n",
       "<style scoped>\n",
       "    .dataframe tbody tr th:only-of-type {\n",
       "        vertical-align: middle;\n",
       "    }\n",
       "\n",
       "    .dataframe tbody tr th {\n",
       "        vertical-align: top;\n",
       "    }\n",
       "\n",
       "    .dataframe thead th {\n",
       "        text-align: right;\n",
       "    }\n",
       "</style>\n",
       "<table border=\"1\" class=\"dataframe\">\n",
       "  <thead>\n",
       "    <tr style=\"text-align: right;\">\n",
       "      <th></th>\n",
       "      <th>CustomerID</th>\n",
       "      <th>Frequency</th>\n",
       "    </tr>\n",
       "  </thead>\n",
       "  <tbody>\n",
       "    <tr>\n",
       "      <th>0</th>\n",
       "      <td>12346.0</td>\n",
       "      <td>1</td>\n",
       "    </tr>\n",
       "    <tr>\n",
       "      <th>1</th>\n",
       "      <td>12747.0</td>\n",
       "      <td>103</td>\n",
       "    </tr>\n",
       "    <tr>\n",
       "      <th>2</th>\n",
       "      <td>12748.0</td>\n",
       "      <td>4595</td>\n",
       "    </tr>\n",
       "    <tr>\n",
       "      <th>3</th>\n",
       "      <td>12749.0</td>\n",
       "      <td>199</td>\n",
       "    </tr>\n",
       "    <tr>\n",
       "      <th>4</th>\n",
       "      <td>12820.0</td>\n",
       "      <td>59</td>\n",
       "    </tr>\n",
       "  </tbody>\n",
       "</table>\n",
       "</div>"
      ],
      "text/plain": [
       "   CustomerID  Frequency\n",
       "0     12346.0          1\n",
       "1     12747.0        103\n",
       "2     12748.0       4595\n",
       "3     12749.0        199\n",
       "4     12820.0         59"
      ]
     },
     "execution_count": 40,
     "metadata": {},
     "output_type": "execute_result"
    }
   ],
   "source": [
    "freq.head()"
   ]
  },
  {
   "cell_type": "code",
   "execution_count": 41,
   "metadata": {},
   "outputs": [],
   "source": [
    "#merging with rfm as to vsualize recency and freq together\n",
    "rfm = pd.merge(rfm,freq, on='CustomerID')"
   ]
  },
  {
   "cell_type": "code",
   "execution_count": 42,
   "metadata": {},
   "outputs": [
    {
     "data": {
      "text/html": [
       "<div>\n",
       "<style scoped>\n",
       "    .dataframe tbody tr th:only-of-type {\n",
       "        vertical-align: middle;\n",
       "    }\n",
       "\n",
       "    .dataframe tbody tr th {\n",
       "        vertical-align: top;\n",
       "    }\n",
       "\n",
       "    .dataframe thead th {\n",
       "        text-align: right;\n",
       "    }\n",
       "</style>\n",
       "<table border=\"1\" class=\"dataframe\">\n",
       "  <thead>\n",
       "    <tr style=\"text-align: right;\">\n",
       "      <th></th>\n",
       "      <th>CustomerID</th>\n",
       "      <th>Recency</th>\n",
       "      <th>Frequency</th>\n",
       "    </tr>\n",
       "  </thead>\n",
       "  <tbody>\n",
       "    <tr>\n",
       "      <th>0</th>\n",
       "      <td>12346.0</td>\n",
       "      <td>326</td>\n",
       "      <td>1</td>\n",
       "    </tr>\n",
       "    <tr>\n",
       "      <th>1</th>\n",
       "      <td>12747.0</td>\n",
       "      <td>23</td>\n",
       "      <td>103</td>\n",
       "    </tr>\n",
       "    <tr>\n",
       "      <th>2</th>\n",
       "      <td>12748.0</td>\n",
       "      <td>5</td>\n",
       "      <td>4595</td>\n",
       "    </tr>\n",
       "    <tr>\n",
       "      <th>3</th>\n",
       "      <td>12749.0</td>\n",
       "      <td>23</td>\n",
       "      <td>199</td>\n",
       "    </tr>\n",
       "    <tr>\n",
       "      <th>4</th>\n",
       "      <td>12820.0</td>\n",
       "      <td>45</td>\n",
       "      <td>59</td>\n",
       "    </tr>\n",
       "  </tbody>\n",
       "</table>\n",
       "</div>"
      ],
      "text/plain": [
       "   CustomerID  Recency  Frequency\n",
       "0     12346.0      326          1\n",
       "1     12747.0       23        103\n",
       "2     12748.0        5       4595\n",
       "3     12749.0       23        199\n",
       "4     12820.0       45         59"
      ]
     },
     "execution_count": 42,
     "metadata": {},
     "output_type": "execute_result"
    }
   ],
   "source": [
    "rfm.head()"
   ]
  },
  {
   "cell_type": "markdown",
   "metadata": {},
   "source": [
    "# Monetary "
   ]
  },
  {
   "cell_type": "code",
   "execution_count": 43,
   "metadata": {},
   "outputs": [],
   "source": [
    "#calculate Monetory value\n",
    "mon=desired_columns_data.groupby('CustomerID').TotalPrice.sum().reset_index()"
   ]
  },
  {
   "cell_type": "code",
   "execution_count": 44,
   "metadata": {},
   "outputs": [
    {
     "data": {
      "text/html": [
       "<div>\n",
       "<style scoped>\n",
       "    .dataframe tbody tr th:only-of-type {\n",
       "        vertical-align: middle;\n",
       "    }\n",
       "\n",
       "    .dataframe tbody tr th {\n",
       "        vertical-align: top;\n",
       "    }\n",
       "\n",
       "    .dataframe thead th {\n",
       "        text-align: right;\n",
       "    }\n",
       "</style>\n",
       "<table border=\"1\" class=\"dataframe\">\n",
       "  <thead>\n",
       "    <tr style=\"text-align: right;\">\n",
       "      <th></th>\n",
       "      <th>CustomerID</th>\n",
       "      <th>TotalPrice</th>\n",
       "    </tr>\n",
       "  </thead>\n",
       "  <tbody>\n",
       "    <tr>\n",
       "      <th>0</th>\n",
       "      <td>12346.0</td>\n",
       "      <td>77183.60</td>\n",
       "    </tr>\n",
       "    <tr>\n",
       "      <th>1</th>\n",
       "      <td>12747.0</td>\n",
       "      <td>4196.01</td>\n",
       "    </tr>\n",
       "    <tr>\n",
       "      <th>2</th>\n",
       "      <td>12748.0</td>\n",
       "      <td>33719.73</td>\n",
       "    </tr>\n",
       "    <tr>\n",
       "      <th>3</th>\n",
       "      <td>12749.0</td>\n",
       "      <td>4090.88</td>\n",
       "    </tr>\n",
       "    <tr>\n",
       "      <th>4</th>\n",
       "      <td>12820.0</td>\n",
       "      <td>942.34</td>\n",
       "    </tr>\n",
       "  </tbody>\n",
       "</table>\n",
       "</div>"
      ],
      "text/plain": [
       "   CustomerID  TotalPrice\n",
       "0     12346.0    77183.60\n",
       "1     12747.0     4196.01\n",
       "2     12748.0    33719.73\n",
       "3     12749.0     4090.88\n",
       "4     12820.0      942.34"
      ]
     },
     "execution_count": 44,
     "metadata": {},
     "output_type": "execute_result"
    }
   ],
   "source": [
    "mon.head()"
   ]
  },
  {
   "cell_type": "code",
   "execution_count": 45,
   "metadata": {},
   "outputs": [],
   "source": [
    "#changing the columns name\n",
    "mon.columns=['CustomerID','Monetary']"
   ]
  },
  {
   "cell_type": "code",
   "execution_count": 46,
   "metadata": {},
   "outputs": [
    {
     "data": {
      "text/html": [
       "<div>\n",
       "<style scoped>\n",
       "    .dataframe tbody tr th:only-of-type {\n",
       "        vertical-align: middle;\n",
       "    }\n",
       "\n",
       "    .dataframe tbody tr th {\n",
       "        vertical-align: top;\n",
       "    }\n",
       "\n",
       "    .dataframe thead th {\n",
       "        text-align: right;\n",
       "    }\n",
       "</style>\n",
       "<table border=\"1\" class=\"dataframe\">\n",
       "  <thead>\n",
       "    <tr style=\"text-align: right;\">\n",
       "      <th></th>\n",
       "      <th>CustomerID</th>\n",
       "      <th>Monetary</th>\n",
       "    </tr>\n",
       "  </thead>\n",
       "  <tbody>\n",
       "    <tr>\n",
       "      <th>0</th>\n",
       "      <td>12346.0</td>\n",
       "      <td>77183.60</td>\n",
       "    </tr>\n",
       "    <tr>\n",
       "      <th>1</th>\n",
       "      <td>12747.0</td>\n",
       "      <td>4196.01</td>\n",
       "    </tr>\n",
       "    <tr>\n",
       "      <th>2</th>\n",
       "      <td>12748.0</td>\n",
       "      <td>33719.73</td>\n",
       "    </tr>\n",
       "    <tr>\n",
       "      <th>3</th>\n",
       "      <td>12749.0</td>\n",
       "      <td>4090.88</td>\n",
       "    </tr>\n",
       "    <tr>\n",
       "      <th>4</th>\n",
       "      <td>12820.0</td>\n",
       "      <td>942.34</td>\n",
       "    </tr>\n",
       "  </tbody>\n",
       "</table>\n",
       "</div>"
      ],
      "text/plain": [
       "   CustomerID  Monetary\n",
       "0     12346.0  77183.60\n",
       "1     12747.0   4196.01\n",
       "2     12748.0  33719.73\n",
       "3     12749.0   4090.88\n",
       "4     12820.0    942.34"
      ]
     },
     "execution_count": 46,
     "metadata": {},
     "output_type": "execute_result"
    }
   ],
   "source": [
    "mon.head()"
   ]
  },
  {
   "cell_type": "code",
   "execution_count": 47,
   "metadata": {},
   "outputs": [],
   "source": [
    "#merging monetory to rfm\n",
    "rfm=pd.merge(rfm,mon,on='CustomerID')"
   ]
  },
  {
   "cell_type": "code",
   "execution_count": 48,
   "metadata": {},
   "outputs": [
    {
     "data": {
      "text/html": [
       "<div>\n",
       "<style scoped>\n",
       "    .dataframe tbody tr th:only-of-type {\n",
       "        vertical-align: middle;\n",
       "    }\n",
       "\n",
       "    .dataframe tbody tr th {\n",
       "        vertical-align: top;\n",
       "    }\n",
       "\n",
       "    .dataframe thead th {\n",
       "        text-align: right;\n",
       "    }\n",
       "</style>\n",
       "<table border=\"1\" class=\"dataframe\">\n",
       "  <thead>\n",
       "    <tr style=\"text-align: right;\">\n",
       "      <th></th>\n",
       "      <th>CustomerID</th>\n",
       "      <th>Recency</th>\n",
       "      <th>Frequency</th>\n",
       "      <th>Monetary</th>\n",
       "    </tr>\n",
       "  </thead>\n",
       "  <tbody>\n",
       "    <tr>\n",
       "      <th>0</th>\n",
       "      <td>12346.0</td>\n",
       "      <td>326</td>\n",
       "      <td>1</td>\n",
       "      <td>77183.60</td>\n",
       "    </tr>\n",
       "    <tr>\n",
       "      <th>1</th>\n",
       "      <td>12747.0</td>\n",
       "      <td>23</td>\n",
       "      <td>103</td>\n",
       "      <td>4196.01</td>\n",
       "    </tr>\n",
       "    <tr>\n",
       "      <th>2</th>\n",
       "      <td>12748.0</td>\n",
       "      <td>5</td>\n",
       "      <td>4595</td>\n",
       "      <td>33719.73</td>\n",
       "    </tr>\n",
       "    <tr>\n",
       "      <th>3</th>\n",
       "      <td>12749.0</td>\n",
       "      <td>23</td>\n",
       "      <td>199</td>\n",
       "      <td>4090.88</td>\n",
       "    </tr>\n",
       "    <tr>\n",
       "      <th>4</th>\n",
       "      <td>12820.0</td>\n",
       "      <td>45</td>\n",
       "      <td>59</td>\n",
       "      <td>942.34</td>\n",
       "    </tr>\n",
       "    <tr>\n",
       "      <th>5</th>\n",
       "      <td>12821.0</td>\n",
       "      <td>96</td>\n",
       "      <td>6</td>\n",
       "      <td>92.72</td>\n",
       "    </tr>\n",
       "    <tr>\n",
       "      <th>6</th>\n",
       "      <td>12822.0</td>\n",
       "      <td>71</td>\n",
       "      <td>46</td>\n",
       "      <td>948.88</td>\n",
       "    </tr>\n",
       "    <tr>\n",
       "      <th>7</th>\n",
       "      <td>12823.0</td>\n",
       "      <td>75</td>\n",
       "      <td>5</td>\n",
       "      <td>1759.50</td>\n",
       "    </tr>\n",
       "    <tr>\n",
       "      <th>8</th>\n",
       "      <td>12824.0</td>\n",
       "      <td>30</td>\n",
       "      <td>25</td>\n",
       "      <td>397.12</td>\n",
       "    </tr>\n",
       "    <tr>\n",
       "      <th>9</th>\n",
       "      <td>12826.0</td>\n",
       "      <td>60</td>\n",
       "      <td>91</td>\n",
       "      <td>1474.72</td>\n",
       "    </tr>\n",
       "  </tbody>\n",
       "</table>\n",
       "</div>"
      ],
      "text/plain": [
       "   CustomerID  Recency  Frequency  Monetary\n",
       "0     12346.0      326          1  77183.60\n",
       "1     12747.0       23        103   4196.01\n",
       "2     12748.0        5       4595  33719.73\n",
       "3     12749.0       23        199   4090.88\n",
       "4     12820.0       45         59    942.34\n",
       "5     12821.0       96          6     92.72\n",
       "6     12822.0       71         46    948.88\n",
       "7     12823.0       75          5   1759.50\n",
       "8     12824.0       30         25    397.12\n",
       "9     12826.0       60         91   1474.72"
      ]
     },
     "execution_count": 48,
     "metadata": {},
     "output_type": "execute_result"
    }
   ],
   "source": [
    "rfm.head(10)"
   ]
  },
  {
   "cell_type": "markdown",
   "metadata": {},
   "source": [
    "# Filtering out the top customers using RFM values"
   ]
  },
  {
   "cell_type": "code",
   "execution_count": 49,
   "metadata": {},
   "outputs": [],
   "source": [
    "#labels for discretion of the recency ,frequency and monetary\n",
    "labels=['L','M','H']\n"
   ]
  },
  {
   "cell_type": "code",
   "execution_count": 50,
   "metadata": {},
   "outputs": [],
   "source": [
    "#discretion on recency\n",
    "rfm['R_quartile'] = pd.qcut(rfm['Recency'], 3, labels)\n"
   ]
  },
  {
   "cell_type": "code",
   "execution_count": 51,
   "metadata": {},
   "outputs": [],
   "source": [
    "#discretion on Frequency\n",
    "rfm['F_quartile'] = pd.qcut(rfm['Frequency'], 3, labels)"
   ]
  },
  {
   "cell_type": "code",
   "execution_count": 52,
   "metadata": {},
   "outputs": [],
   "source": [
    "#discretion on Monetary\n",
    "rfm['M_quartile'] = pd.qcut(rfm['Monetary'], 3, labels)"
   ]
  },
  {
   "cell_type": "code",
   "execution_count": 53,
   "metadata": {},
   "outputs": [
    {
     "data": {
      "text/html": [
       "<div>\n",
       "<style scoped>\n",
       "    .dataframe tbody tr th:only-of-type {\n",
       "        vertical-align: middle;\n",
       "    }\n",
       "\n",
       "    .dataframe tbody tr th {\n",
       "        vertical-align: top;\n",
       "    }\n",
       "\n",
       "    .dataframe thead th {\n",
       "        text-align: right;\n",
       "    }\n",
       "</style>\n",
       "<table border=\"1\" class=\"dataframe\">\n",
       "  <thead>\n",
       "    <tr style=\"text-align: right;\">\n",
       "      <th></th>\n",
       "      <th>CustomerID</th>\n",
       "      <th>Recency</th>\n",
       "      <th>Frequency</th>\n",
       "      <th>Monetary</th>\n",
       "      <th>R_quartile</th>\n",
       "      <th>F_quartile</th>\n",
       "      <th>M_quartile</th>\n",
       "    </tr>\n",
       "  </thead>\n",
       "  <tbody>\n",
       "    <tr>\n",
       "      <th>0</th>\n",
       "      <td>12346.0</td>\n",
       "      <td>326</td>\n",
       "      <td>1</td>\n",
       "      <td>77183.60</td>\n",
       "      <td>H</td>\n",
       "      <td>L</td>\n",
       "      <td>H</td>\n",
       "    </tr>\n",
       "    <tr>\n",
       "      <th>1</th>\n",
       "      <td>12747.0</td>\n",
       "      <td>23</td>\n",
       "      <td>103</td>\n",
       "      <td>4196.01</td>\n",
       "      <td>L</td>\n",
       "      <td>H</td>\n",
       "      <td>H</td>\n",
       "    </tr>\n",
       "    <tr>\n",
       "      <th>2</th>\n",
       "      <td>12748.0</td>\n",
       "      <td>5</td>\n",
       "      <td>4595</td>\n",
       "      <td>33719.73</td>\n",
       "      <td>L</td>\n",
       "      <td>H</td>\n",
       "      <td>H</td>\n",
       "    </tr>\n",
       "    <tr>\n",
       "      <th>3</th>\n",
       "      <td>12749.0</td>\n",
       "      <td>23</td>\n",
       "      <td>199</td>\n",
       "      <td>4090.88</td>\n",
       "      <td>L</td>\n",
       "      <td>H</td>\n",
       "      <td>H</td>\n",
       "    </tr>\n",
       "    <tr>\n",
       "      <th>4</th>\n",
       "      <td>12820.0</td>\n",
       "      <td>45</td>\n",
       "      <td>59</td>\n",
       "      <td>942.34</td>\n",
       "      <td>M</td>\n",
       "      <td>M</td>\n",
       "      <td>M</td>\n",
       "    </tr>\n",
       "  </tbody>\n",
       "</table>\n",
       "</div>"
      ],
      "text/plain": [
       "   CustomerID  Recency  Frequency  Monetary R_quartile F_quartile M_quartile\n",
       "0     12346.0      326          1  77183.60          H          L          H\n",
       "1     12747.0       23        103   4196.01          L          H          H\n",
       "2     12748.0        5       4595  33719.73          L          H          H\n",
       "3     12749.0       23        199   4090.88          L          H          H\n",
       "4     12820.0       45         59    942.34          M          M          M"
      ]
     },
     "execution_count": 53,
     "metadata": {},
     "output_type": "execute_result"
    }
   ],
   "source": [
    "rfm.head()"
   ]
  },
  {
   "cell_type": "code",
   "execution_count": 54,
   "metadata": {},
   "outputs": [],
   "source": [
    "#Merging all the rankings\n",
    "rfm['Ranking'] = rfm.R_quartile.astype(str)+ rfm.F_quartile.astype(str) + rfm.M_quartile.astype(str)"
   ]
  },
  {
   "cell_type": "code",
   "execution_count": 55,
   "metadata": {},
   "outputs": [
    {
     "data": {
      "text/html": [
       "<div>\n",
       "<style scoped>\n",
       "    .dataframe tbody tr th:only-of-type {\n",
       "        vertical-align: middle;\n",
       "    }\n",
       "\n",
       "    .dataframe tbody tr th {\n",
       "        vertical-align: top;\n",
       "    }\n",
       "\n",
       "    .dataframe thead th {\n",
       "        text-align: right;\n",
       "    }\n",
       "</style>\n",
       "<table border=\"1\" class=\"dataframe\">\n",
       "  <thead>\n",
       "    <tr style=\"text-align: right;\">\n",
       "      <th></th>\n",
       "      <th>CustomerID</th>\n",
       "      <th>Recency</th>\n",
       "      <th>Frequency</th>\n",
       "      <th>Monetary</th>\n",
       "      <th>R_quartile</th>\n",
       "      <th>F_quartile</th>\n",
       "      <th>M_quartile</th>\n",
       "      <th>Ranking</th>\n",
       "    </tr>\n",
       "  </thead>\n",
       "  <tbody>\n",
       "    <tr>\n",
       "      <th>0</th>\n",
       "      <td>12346.0</td>\n",
       "      <td>326</td>\n",
       "      <td>1</td>\n",
       "      <td>77183.60</td>\n",
       "      <td>H</td>\n",
       "      <td>L</td>\n",
       "      <td>H</td>\n",
       "      <td>HLH</td>\n",
       "    </tr>\n",
       "    <tr>\n",
       "      <th>1</th>\n",
       "      <td>12747.0</td>\n",
       "      <td>23</td>\n",
       "      <td>103</td>\n",
       "      <td>4196.01</td>\n",
       "      <td>L</td>\n",
       "      <td>H</td>\n",
       "      <td>H</td>\n",
       "      <td>LHH</td>\n",
       "    </tr>\n",
       "    <tr>\n",
       "      <th>2</th>\n",
       "      <td>12748.0</td>\n",
       "      <td>5</td>\n",
       "      <td>4595</td>\n",
       "      <td>33719.73</td>\n",
       "      <td>L</td>\n",
       "      <td>H</td>\n",
       "      <td>H</td>\n",
       "      <td>LHH</td>\n",
       "    </tr>\n",
       "    <tr>\n",
       "      <th>3</th>\n",
       "      <td>12749.0</td>\n",
       "      <td>23</td>\n",
       "      <td>199</td>\n",
       "      <td>4090.88</td>\n",
       "      <td>L</td>\n",
       "      <td>H</td>\n",
       "      <td>H</td>\n",
       "      <td>LHH</td>\n",
       "    </tr>\n",
       "    <tr>\n",
       "      <th>4</th>\n",
       "      <td>12820.0</td>\n",
       "      <td>45</td>\n",
       "      <td>59</td>\n",
       "      <td>942.34</td>\n",
       "      <td>M</td>\n",
       "      <td>M</td>\n",
       "      <td>M</td>\n",
       "      <td>MMM</td>\n",
       "    </tr>\n",
       "  </tbody>\n",
       "</table>\n",
       "</div>"
      ],
      "text/plain": [
       "   CustomerID  Recency  Frequency  Monetary R_quartile F_quartile M_quartile  \\\n",
       "0     12346.0      326          1  77183.60          H          L          H   \n",
       "1     12747.0       23        103   4196.01          L          H          H   \n",
       "2     12748.0        5       4595  33719.73          L          H          H   \n",
       "3     12749.0       23        199   4090.88          L          H          H   \n",
       "4     12820.0       45         59    942.34          M          M          M   \n",
       "\n",
       "  Ranking  \n",
       "0     HLH  \n",
       "1     LHH  \n",
       "2     LHH  \n",
       "3     LHH  \n",
       "4     MMM  "
      ]
     },
     "execution_count": 55,
     "metadata": {},
     "output_type": "execute_result"
    }
   ],
   "source": [
    "rfm.head()"
   ]
  },
  {
   "cell_type": "code",
   "execution_count": 56,
   "metadata": {},
   "outputs": [],
   "source": [
    "# Filtering out the customers having the least recency and high frequency and Monetary value\n",
    "final_result=rfm[rfm['Ranking']=='LHH']"
   ]
  },
  {
   "cell_type": "code",
   "execution_count": 57,
   "metadata": {},
   "outputs": [
    {
     "data": {
      "text/html": [
       "<div>\n",
       "<style scoped>\n",
       "    .dataframe tbody tr th:only-of-type {\n",
       "        vertical-align: middle;\n",
       "    }\n",
       "\n",
       "    .dataframe tbody tr th {\n",
       "        vertical-align: top;\n",
       "    }\n",
       "\n",
       "    .dataframe thead th {\n",
       "        text-align: right;\n",
       "    }\n",
       "</style>\n",
       "<table border=\"1\" class=\"dataframe\">\n",
       "  <thead>\n",
       "    <tr style=\"text-align: right;\">\n",
       "      <th></th>\n",
       "      <th>CustomerID</th>\n",
       "      <th>Recency</th>\n",
       "      <th>Frequency</th>\n",
       "      <th>Monetary</th>\n",
       "      <th>R_quartile</th>\n",
       "      <th>F_quartile</th>\n",
       "      <th>M_quartile</th>\n",
       "      <th>Ranking</th>\n",
       "    </tr>\n",
       "  </thead>\n",
       "  <tbody>\n",
       "    <tr>\n",
       "      <th>1</th>\n",
       "      <td>12747.0</td>\n",
       "      <td>23</td>\n",
       "      <td>103</td>\n",
       "      <td>4196.01</td>\n",
       "      <td>L</td>\n",
       "      <td>H</td>\n",
       "      <td>H</td>\n",
       "      <td>LHH</td>\n",
       "    </tr>\n",
       "    <tr>\n",
       "      <th>2</th>\n",
       "      <td>12748.0</td>\n",
       "      <td>5</td>\n",
       "      <td>4595</td>\n",
       "      <td>33719.73</td>\n",
       "      <td>L</td>\n",
       "      <td>H</td>\n",
       "      <td>H</td>\n",
       "      <td>LHH</td>\n",
       "    </tr>\n",
       "    <tr>\n",
       "      <th>3</th>\n",
       "      <td>12749.0</td>\n",
       "      <td>23</td>\n",
       "      <td>199</td>\n",
       "      <td>4090.88</td>\n",
       "      <td>L</td>\n",
       "      <td>H</td>\n",
       "      <td>H</td>\n",
       "      <td>LHH</td>\n",
       "    </tr>\n",
       "    <tr>\n",
       "      <th>18</th>\n",
       "      <td>12836.0</td>\n",
       "      <td>30</td>\n",
       "      <td>175</td>\n",
       "      <td>2612.86</td>\n",
       "      <td>L</td>\n",
       "      <td>H</td>\n",
       "      <td>H</td>\n",
       "      <td>LHH</td>\n",
       "    </tr>\n",
       "    <tr>\n",
       "      <th>21</th>\n",
       "      <td>12839.0</td>\n",
       "      <td>12</td>\n",
       "      <td>314</td>\n",
       "      <td>5591.42</td>\n",
       "      <td>L</td>\n",
       "      <td>H</td>\n",
       "      <td>H</td>\n",
       "      <td>LHH</td>\n",
       "    </tr>\n",
       "  </tbody>\n",
       "</table>\n",
       "</div>"
      ],
      "text/plain": [
       "    CustomerID  Recency  Frequency  Monetary R_quartile F_quartile M_quartile  \\\n",
       "1      12747.0       23        103   4196.01          L          H          H   \n",
       "2      12748.0        5       4595  33719.73          L          H          H   \n",
       "3      12749.0       23        199   4090.88          L          H          H   \n",
       "18     12836.0       30        175   2612.86          L          H          H   \n",
       "21     12839.0       12        314   5591.42          L          H          H   \n",
       "\n",
       "   Ranking  \n",
       "1      LHH  \n",
       "2      LHH  \n",
       "3      LHH  \n",
       "18     LHH  \n",
       "21     LHH  "
      ]
     },
     "execution_count": 57,
     "metadata": {},
     "output_type": "execute_result"
    }
   ],
   "source": [
    "final_result.head()"
   ]
  },
  {
   "cell_type": "code",
   "execution_count": 58,
   "metadata": {},
   "outputs": [],
   "source": [
    "#filtering out the top customers\n",
    "final_result=final_result.sort_values('Monetary',ascending=False).reset_index()"
   ]
  },
  {
   "cell_type": "code",
   "execution_count": 59,
   "metadata": {},
   "outputs": [],
   "source": [
    "final_result=final_result.drop(['index'],axis=1)"
   ]
  },
  {
   "cell_type": "code",
   "execution_count": 60,
   "metadata": {
    "scrolled": true
   },
   "outputs": [
    {
     "data": {
      "text/html": [
       "<div>\n",
       "<style scoped>\n",
       "    .dataframe tbody tr th:only-of-type {\n",
       "        vertical-align: middle;\n",
       "    }\n",
       "\n",
       "    .dataframe tbody tr th {\n",
       "        vertical-align: top;\n",
       "    }\n",
       "\n",
       "    .dataframe thead th {\n",
       "        text-align: right;\n",
       "    }\n",
       "</style>\n",
       "<table border=\"1\" class=\"dataframe\">\n",
       "  <thead>\n",
       "    <tr style=\"text-align: right;\">\n",
       "      <th></th>\n",
       "      <th>CustomerID</th>\n",
       "      <th>Recency</th>\n",
       "      <th>Frequency</th>\n",
       "      <th>Monetary</th>\n",
       "      <th>R_quartile</th>\n",
       "      <th>F_quartile</th>\n",
       "      <th>M_quartile</th>\n",
       "      <th>Ranking</th>\n",
       "    </tr>\n",
       "  </thead>\n",
       "  <tbody>\n",
       "    <tr>\n",
       "      <th>0</th>\n",
       "      <td>18102.0</td>\n",
       "      <td>12</td>\n",
       "      <td>431</td>\n",
       "      <td>259657.30</td>\n",
       "      <td>L</td>\n",
       "      <td>H</td>\n",
       "      <td>H</td>\n",
       "      <td>LHH</td>\n",
       "    </tr>\n",
       "    <tr>\n",
       "      <th>1</th>\n",
       "      <td>17450.0</td>\n",
       "      <td>3</td>\n",
       "      <td>337</td>\n",
       "      <td>194550.79</td>\n",
       "      <td>L</td>\n",
       "      <td>H</td>\n",
       "      <td>H</td>\n",
       "      <td>LHH</td>\n",
       "    </tr>\n",
       "    <tr>\n",
       "      <th>2</th>\n",
       "      <td>17511.0</td>\n",
       "      <td>6</td>\n",
       "      <td>963</td>\n",
       "      <td>91062.38</td>\n",
       "      <td>L</td>\n",
       "      <td>H</td>\n",
       "      <td>H</td>\n",
       "      <td>LHH</td>\n",
       "    </tr>\n",
       "    <tr>\n",
       "      <th>3</th>\n",
       "      <td>16029.0</td>\n",
       "      <td>30</td>\n",
       "      <td>242</td>\n",
       "      <td>81024.84</td>\n",
       "      <td>L</td>\n",
       "      <td>H</td>\n",
       "      <td>H</td>\n",
       "      <td>LHH</td>\n",
       "    </tr>\n",
       "    <tr>\n",
       "      <th>4</th>\n",
       "      <td>16684.0</td>\n",
       "      <td>12</td>\n",
       "      <td>277</td>\n",
       "      <td>66653.56</td>\n",
       "      <td>L</td>\n",
       "      <td>H</td>\n",
       "      <td>H</td>\n",
       "      <td>LHH</td>\n",
       "    </tr>\n",
       "  </tbody>\n",
       "</table>\n",
       "</div>"
      ],
      "text/plain": [
       "   CustomerID  Recency  Frequency   Monetary R_quartile F_quartile M_quartile  \\\n",
       "0     18102.0       12        431  259657.30          L          H          H   \n",
       "1     17450.0        3        337  194550.79          L          H          H   \n",
       "2     17511.0        6        963   91062.38          L          H          H   \n",
       "3     16029.0       30        242   81024.84          L          H          H   \n",
       "4     16684.0       12        277   66653.56          L          H          H   \n",
       "\n",
       "  Ranking  \n",
       "0     LHH  \n",
       "1     LHH  \n",
       "2     LHH  \n",
       "3     LHH  \n",
       "4     LHH  "
      ]
     },
     "execution_count": 60,
     "metadata": {},
     "output_type": "execute_result"
    }
   ],
   "source": [
    "#Our Top Customers\n",
    "final_result.head()"
   ]
  },
  {
   "cell_type": "code",
   "execution_count": 61,
   "metadata": {},
   "outputs": [],
   "source": [
    "#Displaying only the necessary data\n",
    "final_result=final_result.drop(['R_quartile','F_quartile','M_quartile','Ranking'],axis=1)"
   ]
  },
  {
   "cell_type": "code",
   "execution_count": 62,
   "metadata": {},
   "outputs": [
    {
     "data": {
      "text/html": [
       "<div>\n",
       "<style scoped>\n",
       "    .dataframe tbody tr th:only-of-type {\n",
       "        vertical-align: middle;\n",
       "    }\n",
       "\n",
       "    .dataframe tbody tr th {\n",
       "        vertical-align: top;\n",
       "    }\n",
       "\n",
       "    .dataframe thead th {\n",
       "        text-align: right;\n",
       "    }\n",
       "</style>\n",
       "<table border=\"1\" class=\"dataframe\">\n",
       "  <thead>\n",
       "    <tr style=\"text-align: right;\">\n",
       "      <th></th>\n",
       "      <th>CustomerID</th>\n",
       "      <th>Recency</th>\n",
       "      <th>Frequency</th>\n",
       "      <th>Monetary</th>\n",
       "    </tr>\n",
       "  </thead>\n",
       "  <tbody>\n",
       "    <tr>\n",
       "      <th>0</th>\n",
       "      <td>18102.0</td>\n",
       "      <td>12</td>\n",
       "      <td>431</td>\n",
       "      <td>259657.30</td>\n",
       "    </tr>\n",
       "    <tr>\n",
       "      <th>1</th>\n",
       "      <td>17450.0</td>\n",
       "      <td>3</td>\n",
       "      <td>337</td>\n",
       "      <td>194550.79</td>\n",
       "    </tr>\n",
       "    <tr>\n",
       "      <th>2</th>\n",
       "      <td>17511.0</td>\n",
       "      <td>6</td>\n",
       "      <td>963</td>\n",
       "      <td>91062.38</td>\n",
       "    </tr>\n",
       "    <tr>\n",
       "      <th>3</th>\n",
       "      <td>16029.0</td>\n",
       "      <td>30</td>\n",
       "      <td>242</td>\n",
       "      <td>81024.84</td>\n",
       "    </tr>\n",
       "    <tr>\n",
       "      <th>4</th>\n",
       "      <td>16684.0</td>\n",
       "      <td>12</td>\n",
       "      <td>277</td>\n",
       "      <td>66653.56</td>\n",
       "    </tr>\n",
       "  </tbody>\n",
       "</table>\n",
       "</div>"
      ],
      "text/plain": [
       "   CustomerID  Recency  Frequency   Monetary\n",
       "0     18102.0       12        431  259657.30\n",
       "1     17450.0        3        337  194550.79\n",
       "2     17511.0        6        963   91062.38\n",
       "3     16029.0       30        242   81024.84\n",
       "4     16684.0       12        277   66653.56"
      ]
     },
     "execution_count": 62,
     "metadata": {},
     "output_type": "execute_result"
    }
   ],
   "source": [
    "#Our top Customers\n",
    "final_result.head()"
   ]
  },
  {
   "cell_type": "markdown",
   "metadata": {},
   "source": [
    "# Prepearing data in order to fit into model"
   ]
  },
  {
   "cell_type": "code",
   "execution_count": 63,
   "metadata": {},
   "outputs": [
    {
     "data": {
      "text/html": [
       "<div>\n",
       "<style scoped>\n",
       "    .dataframe tbody tr th:only-of-type {\n",
       "        vertical-align: middle;\n",
       "    }\n",
       "\n",
       "    .dataframe tbody tr th {\n",
       "        vertical-align: top;\n",
       "    }\n",
       "\n",
       "    .dataframe thead th {\n",
       "        text-align: right;\n",
       "    }\n",
       "</style>\n",
       "<table border=\"1\" class=\"dataframe\">\n",
       "  <thead>\n",
       "    <tr style=\"text-align: right;\">\n",
       "      <th></th>\n",
       "      <th>CustomerID</th>\n",
       "      <th>Recency</th>\n",
       "      <th>Frequency</th>\n",
       "      <th>Monetary</th>\n",
       "      <th>R_quartile</th>\n",
       "      <th>F_quartile</th>\n",
       "      <th>M_quartile</th>\n",
       "      <th>Ranking</th>\n",
       "    </tr>\n",
       "  </thead>\n",
       "  <tbody>\n",
       "    <tr>\n",
       "      <th>0</th>\n",
       "      <td>12346.0</td>\n",
       "      <td>326</td>\n",
       "      <td>1</td>\n",
       "      <td>77183.60</td>\n",
       "      <td>H</td>\n",
       "      <td>L</td>\n",
       "      <td>H</td>\n",
       "      <td>HLH</td>\n",
       "    </tr>\n",
       "    <tr>\n",
       "      <th>1</th>\n",
       "      <td>12747.0</td>\n",
       "      <td>23</td>\n",
       "      <td>103</td>\n",
       "      <td>4196.01</td>\n",
       "      <td>L</td>\n",
       "      <td>H</td>\n",
       "      <td>H</td>\n",
       "      <td>LHH</td>\n",
       "    </tr>\n",
       "    <tr>\n",
       "      <th>2</th>\n",
       "      <td>12748.0</td>\n",
       "      <td>5</td>\n",
       "      <td>4595</td>\n",
       "      <td>33719.73</td>\n",
       "      <td>L</td>\n",
       "      <td>H</td>\n",
       "      <td>H</td>\n",
       "      <td>LHH</td>\n",
       "    </tr>\n",
       "    <tr>\n",
       "      <th>3</th>\n",
       "      <td>12749.0</td>\n",
       "      <td>23</td>\n",
       "      <td>199</td>\n",
       "      <td>4090.88</td>\n",
       "      <td>L</td>\n",
       "      <td>H</td>\n",
       "      <td>H</td>\n",
       "      <td>LHH</td>\n",
       "    </tr>\n",
       "    <tr>\n",
       "      <th>4</th>\n",
       "      <td>12820.0</td>\n",
       "      <td>45</td>\n",
       "      <td>59</td>\n",
       "      <td>942.34</td>\n",
       "      <td>M</td>\n",
       "      <td>M</td>\n",
       "      <td>M</td>\n",
       "      <td>MMM</td>\n",
       "    </tr>\n",
       "  </tbody>\n",
       "</table>\n",
       "</div>"
      ],
      "text/plain": [
       "   CustomerID  Recency  Frequency  Monetary R_quartile F_quartile M_quartile  \\\n",
       "0     12346.0      326          1  77183.60          H          L          H   \n",
       "1     12747.0       23        103   4196.01          L          H          H   \n",
       "2     12748.0        5       4595  33719.73          L          H          H   \n",
       "3     12749.0       23        199   4090.88          L          H          H   \n",
       "4     12820.0       45         59    942.34          M          M          M   \n",
       "\n",
       "  Ranking  \n",
       "0     HLH  \n",
       "1     LHH  \n",
       "2     LHH  \n",
       "3     LHH  \n",
       "4     MMM  "
      ]
     },
     "execution_count": 63,
     "metadata": {},
     "output_type": "execute_result"
    }
   ],
   "source": [
    "rfm.head()"
   ]
  },
  {
   "cell_type": "code",
   "execution_count": 64,
   "metadata": {},
   "outputs": [],
   "source": [
    "#filtering the data in order to make fit into the model\n",
    "temp = rfm[rfm[\"Ranking\"].isin( [\"LHH\", \"LHM\", \"LMH\", \"MHH\", \"MHM\", \"MMH\"])]"
   ]
  },
  {
   "cell_type": "code",
   "execution_count": 65,
   "metadata": {},
   "outputs": [
    {
     "data": {
      "text/html": [
       "<div>\n",
       "<style scoped>\n",
       "    .dataframe tbody tr th:only-of-type {\n",
       "        vertical-align: middle;\n",
       "    }\n",
       "\n",
       "    .dataframe tbody tr th {\n",
       "        vertical-align: top;\n",
       "    }\n",
       "\n",
       "    .dataframe thead th {\n",
       "        text-align: right;\n",
       "    }\n",
       "</style>\n",
       "<table border=\"1\" class=\"dataframe\">\n",
       "  <thead>\n",
       "    <tr style=\"text-align: right;\">\n",
       "      <th></th>\n",
       "      <th>CustomerID</th>\n",
       "      <th>Recency</th>\n",
       "      <th>Frequency</th>\n",
       "      <th>Monetary</th>\n",
       "      <th>R_quartile</th>\n",
       "      <th>F_quartile</th>\n",
       "      <th>M_quartile</th>\n",
       "      <th>Ranking</th>\n",
       "    </tr>\n",
       "  </thead>\n",
       "  <tbody>\n",
       "    <tr>\n",
       "      <th>1</th>\n",
       "      <td>12747.0</td>\n",
       "      <td>23</td>\n",
       "      <td>103</td>\n",
       "      <td>4196.01</td>\n",
       "      <td>L</td>\n",
       "      <td>H</td>\n",
       "      <td>H</td>\n",
       "      <td>LHH</td>\n",
       "    </tr>\n",
       "    <tr>\n",
       "      <th>2</th>\n",
       "      <td>12748.0</td>\n",
       "      <td>5</td>\n",
       "      <td>4595</td>\n",
       "      <td>33719.73</td>\n",
       "      <td>L</td>\n",
       "      <td>H</td>\n",
       "      <td>H</td>\n",
       "      <td>LHH</td>\n",
       "    </tr>\n",
       "    <tr>\n",
       "      <th>3</th>\n",
       "      <td>12749.0</td>\n",
       "      <td>23</td>\n",
       "      <td>199</td>\n",
       "      <td>4090.88</td>\n",
       "      <td>L</td>\n",
       "      <td>H</td>\n",
       "      <td>H</td>\n",
       "      <td>LHH</td>\n",
       "    </tr>\n",
       "    <tr>\n",
       "      <th>9</th>\n",
       "      <td>12826.0</td>\n",
       "      <td>60</td>\n",
       "      <td>91</td>\n",
       "      <td>1474.72</td>\n",
       "      <td>M</td>\n",
       "      <td>H</td>\n",
       "      <td>H</td>\n",
       "      <td>MHH</td>\n",
       "    </tr>\n",
       "    <tr>\n",
       "      <th>13</th>\n",
       "      <td>12830.0</td>\n",
       "      <td>92</td>\n",
       "      <td>38</td>\n",
       "      <td>6814.64</td>\n",
       "      <td>M</td>\n",
       "      <td>M</td>\n",
       "      <td>H</td>\n",
       "      <td>MMH</td>\n",
       "    </tr>\n",
       "  </tbody>\n",
       "</table>\n",
       "</div>"
      ],
      "text/plain": [
       "    CustomerID  Recency  Frequency  Monetary R_quartile F_quartile M_quartile  \\\n",
       "1      12747.0       23        103   4196.01          L          H          H   \n",
       "2      12748.0        5       4595  33719.73          L          H          H   \n",
       "3      12749.0       23        199   4090.88          L          H          H   \n",
       "9      12826.0       60         91   1474.72          M          H          H   \n",
       "13     12830.0       92         38   6814.64          M          M          H   \n",
       "\n",
       "   Ranking  \n",
       "1      LHH  \n",
       "2      LHH  \n",
       "3      LHH  \n",
       "9      MHH  \n",
       "13     MMH  "
      ]
     },
     "execution_count": 65,
     "metadata": {},
     "output_type": "execute_result"
    }
   ],
   "source": [
    "temp.head()"
   ]
  },
  {
   "cell_type": "code",
   "execution_count": 66,
   "metadata": {},
   "outputs": [
    {
     "data": {
      "text/plain": [
       "(1334, 8)"
      ]
     },
     "execution_count": 66,
     "metadata": {},
     "output_type": "execute_result"
    }
   ],
   "source": [
    "temp.shape"
   ]
  },
  {
   "cell_type": "code",
   "execution_count": 67,
   "metadata": {},
   "outputs": [],
   "source": [
    "#defining the independent and dependent variable to X(Independent) and Y(Dependent)\n",
    "X = temp.drop([\"CustomerID\", \"R_quartile\", \"F_quartile\", \"M_quartile\",\"Ranking\"],axis=1)\n",
    "y = temp[\"Ranking\"]"
   ]
  },
  {
   "cell_type": "code",
   "execution_count": 68,
   "metadata": {},
   "outputs": [
    {
     "data": {
      "text/html": [
       "<div>\n",
       "<style scoped>\n",
       "    .dataframe tbody tr th:only-of-type {\n",
       "        vertical-align: middle;\n",
       "    }\n",
       "\n",
       "    .dataframe tbody tr th {\n",
       "        vertical-align: top;\n",
       "    }\n",
       "\n",
       "    .dataframe thead th {\n",
       "        text-align: right;\n",
       "    }\n",
       "</style>\n",
       "<table border=\"1\" class=\"dataframe\">\n",
       "  <thead>\n",
       "    <tr style=\"text-align: right;\">\n",
       "      <th></th>\n",
       "      <th>Recency</th>\n",
       "      <th>Frequency</th>\n",
       "      <th>Monetary</th>\n",
       "    </tr>\n",
       "  </thead>\n",
       "  <tbody>\n",
       "    <tr>\n",
       "      <th>1</th>\n",
       "      <td>23</td>\n",
       "      <td>103</td>\n",
       "      <td>4196.01</td>\n",
       "    </tr>\n",
       "    <tr>\n",
       "      <th>2</th>\n",
       "      <td>5</td>\n",
       "      <td>4595</td>\n",
       "      <td>33719.73</td>\n",
       "    </tr>\n",
       "    <tr>\n",
       "      <th>3</th>\n",
       "      <td>23</td>\n",
       "      <td>199</td>\n",
       "      <td>4090.88</td>\n",
       "    </tr>\n",
       "    <tr>\n",
       "      <th>9</th>\n",
       "      <td>60</td>\n",
       "      <td>91</td>\n",
       "      <td>1474.72</td>\n",
       "    </tr>\n",
       "    <tr>\n",
       "      <th>13</th>\n",
       "      <td>92</td>\n",
       "      <td>38</td>\n",
       "      <td>6814.64</td>\n",
       "    </tr>\n",
       "  </tbody>\n",
       "</table>\n",
       "</div>"
      ],
      "text/plain": [
       "    Recency  Frequency  Monetary\n",
       "1        23        103   4196.01\n",
       "2         5       4595  33719.73\n",
       "3        23        199   4090.88\n",
       "9        60         91   1474.72\n",
       "13       92         38   6814.64"
      ]
     },
     "execution_count": 68,
     "metadata": {},
     "output_type": "execute_result"
    }
   ],
   "source": [
    "X.head()"
   ]
  },
  {
   "cell_type": "code",
   "execution_count": 69,
   "metadata": {},
   "outputs": [
    {
     "data": {
      "text/plain": [
       "1     LHH\n",
       "2     LHH\n",
       "3     LHH\n",
       "9     MHH\n",
       "13    MMH\n",
       "Name: Ranking, dtype: object"
      ]
     },
     "execution_count": 69,
     "metadata": {},
     "output_type": "execute_result"
    }
   ],
   "source": [
    "y.head()"
   ]
  },
  {
   "cell_type": "code",
   "execution_count": 70,
   "metadata": {},
   "outputs": [
    {
     "data": {
      "text/plain": [
       "6"
      ]
     },
     "execution_count": 70,
     "metadata": {},
     "output_type": "execute_result"
    }
   ],
   "source": [
    "c = len(set(y))\n",
    "c"
   ]
  },
  {
   "cell_type": "code",
   "execution_count": 71,
   "metadata": {},
   "outputs": [
    {
     "data": {
      "text/plain": [
       "numpy.ndarray"
      ]
     },
     "execution_count": 71,
     "metadata": {},
     "output_type": "execute_result"
    }
   ],
   "source": [
    "#convert pandas type to numpy\n",
    "y = np.array(y)\n",
    "type(y)"
   ]
  },
  {
   "cell_type": "markdown",
   "metadata": {},
   "source": [
    "# ANN implementation"
   ]
  },
  {
   "cell_type": "code",
   "execution_count": 72,
   "metadata": {},
   "outputs": [
    {
     "name": "stderr",
     "output_type": "stream",
     "text": [
      "Using TensorFlow backend.\n"
     ]
    }
   ],
   "source": [
    "#importing all the required libraries to implement the ANN\n",
    "from sklearn.preprocessing import LabelEncoder\n",
    "from sklearn.model_selection import train_test_split\n",
    "from keras.layers import Dense\n",
    "from keras.models import Sequential\n",
    "import seaborn as sns\n"
   ]
  },
  {
   "cell_type": "code",
   "execution_count": 73,
   "metadata": {},
   "outputs": [
    {
     "name": "stderr",
     "output_type": "stream",
     "text": [
      "/home/deepak/anaconda3/lib/python3.7/site-packages/sklearn/preprocessing/_label.py:251: DataConversionWarning: A column-vector y was passed when a 1d array was expected. Please change the shape of y to (n_samples, ), for example using ravel().\n",
      "  y = column_or_1d(y, warn=True)\n"
     ]
    }
   ],
   "source": [
    "#converted categorical data into numeric data\n",
    "encoder = LabelEncoder()\n",
    "y=encoder.fit_transform(y.reshape(-1, 1))"
   ]
  },
  {
   "cell_type": "code",
   "execution_count": 74,
   "metadata": {},
   "outputs": [
    {
     "data": {
      "text/plain": [
       "array([0, 0, 0, ..., 2, 0, 0])"
      ]
     },
     "execution_count": 74,
     "metadata": {},
     "output_type": "execute_result"
    }
   ],
   "source": [
    "y"
   ]
  },
  {
   "cell_type": "code",
   "execution_count": 75,
   "metadata": {},
   "outputs": [],
   "source": [
    "#splitting of the data for training and testing in 80 : 20\n",
    "X_train, X_test, y_train, y_test = train_test_split(X,y,test_size=0.2)"
   ]
  },
  {
   "cell_type": "code",
   "execution_count": 76,
   "metadata": {},
   "outputs": [],
   "source": [
    "#using sequential model as a base \n",
    "model = Sequential()"
   ]
  },
  {
   "cell_type": "code",
   "execution_count": 77,
   "metadata": {},
   "outputs": [],
   "source": [
    "#Creating the hidden layers\n",
    "model.add(Dense(units = 300, activation = \"relu\", input_shape = (3,)))\n",
    "model.add(Dense(units = 600, activation = \"relu\"))\n",
    "model.add(Dense(units = 900, activation = \"relu\"))\n",
    "model.add(Dense(units = 450, activation = \"relu\"))\n",
    "model.add(Dense(units = 6, activation = \"softmax\"))"
   ]
  },
  {
   "cell_type": "code",
   "execution_count": 78,
   "metadata": {
    "scrolled": true
   },
   "outputs": [
    {
     "name": "stdout",
     "output_type": "stream",
     "text": [
      "Model: \"sequential_1\"\n",
      "_________________________________________________________________\n",
      "Layer (type)                 Output Shape              Param #   \n",
      "=================================================================\n",
      "dense_1 (Dense)              (None, 300)               1200      \n",
      "_________________________________________________________________\n",
      "dense_2 (Dense)              (None, 600)               180600    \n",
      "_________________________________________________________________\n",
      "dense_3 (Dense)              (None, 900)               540900    \n",
      "_________________________________________________________________\n",
      "dense_4 (Dense)              (None, 450)               405450    \n",
      "_________________________________________________________________\n",
      "dense_5 (Dense)              (None, 6)                 2706      \n",
      "=================================================================\n",
      "Total params: 1,130,856\n",
      "Trainable params: 1,130,856\n",
      "Non-trainable params: 0\n",
      "_________________________________________________________________\n"
     ]
    }
   ],
   "source": [
    "#model description\n",
    "model.summary()\n"
   ]
  },
  {
   "cell_type": "code",
   "execution_count": 79,
   "metadata": {},
   "outputs": [],
   "source": [
    "model.compile(loss = \"sparse_categorical_crossentropy\", optimizer = \"adam\", metrics = [\"accuracy\"])"
   ]
  },
  {
   "cell_type": "code",
   "execution_count": 80,
   "metadata": {},
   "outputs": [],
   "source": [
    "from keras.callbacks import EarlyStopping, ModelCheckpoint\n",
    "early_stopping = EarlyStopping(\n",
    "                    monitor = 'loss',\n",
    "                    verbose = 1,\n",
    "                    patience = 30,\n",
    "                    mode = \"min\"\n",
    "                    )\n",
    "\n",
    "mc = ModelCheckpoint(\n",
    "                    \"best_model.h5\",\n",
    "                     verbose = 1,\n",
    "                     mode = \"max\",\n",
    "                     save_best_only = True,\n",
    "                     monitor = \"accuracy\"\n",
    "                    )"
   ]
  },
  {
   "cell_type": "code",
   "execution_count": 81,
   "metadata": {},
   "outputs": [
    {
     "name": "stdout",
     "output_type": "stream",
     "text": [
      "Epoch 1/200\n",
      "1067/1067 [==============================] - 5s 5ms/step - loss: 109.4046 - accuracy: 0.3683\n",
      "\n",
      "Epoch 00001: accuracy improved from -inf to 0.36832, saving model to best_model.h5\n",
      "Epoch 2/200\n",
      "1067/1067 [==============================] - 3s 2ms/step - loss: 9.1345 - accuracy: 0.4227\n",
      "\n",
      "Epoch 00002: accuracy improved from 0.36832 to 0.42268, saving model to best_model.h5\n",
      "Epoch 3/200\n",
      "1067/1067 [==============================] - 3s 2ms/step - loss: 8.8937 - accuracy: 0.4255\n",
      "\n",
      "Epoch 00003: accuracy improved from 0.42268 to 0.42549, saving model to best_model.h5\n",
      "Epoch 4/200\n",
      "1067/1067 [==============================] - 3s 2ms/step - loss: 1.9883 - accuracy: 0.5323\n",
      "\n",
      "Epoch 00004: accuracy improved from 0.42549 to 0.53233, saving model to best_model.h5\n",
      "Epoch 5/200\n",
      "1067/1067 [==============================] - 3s 2ms/step - loss: 2.9712 - accuracy: 0.4930\n",
      "\n",
      "Epoch 00005: accuracy did not improve from 0.53233\n",
      "Epoch 6/200\n",
      "1067/1067 [==============================] - 3s 2ms/step - loss: 1.7724 - accuracy: 0.5895\n",
      "\n",
      "Epoch 00006: accuracy improved from 0.53233 to 0.58950, saving model to best_model.h5\n",
      "Epoch 7/200\n",
      "1067/1067 [==============================] - 3s 2ms/step - loss: 1.7808 - accuracy: 0.5764\n",
      "\n",
      "Epoch 00007: accuracy did not improve from 0.58950\n",
      "Epoch 8/200\n",
      "1067/1067 [==============================] - 3s 3ms/step - loss: 4.2302 - accuracy: 0.5239\n",
      "\n",
      "Epoch 00008: accuracy did not improve from 0.58950\n",
      "Epoch 9/200\n",
      "1067/1067 [==============================] - 3s 3ms/step - loss: 2.3840 - accuracy: 0.4995\n",
      "\n",
      "Epoch 00009: accuracy did not improve from 0.58950\n",
      "Epoch 10/200\n",
      "1067/1067 [==============================] - 3s 3ms/step - loss: 1.3065 - accuracy: 0.5792\n",
      "\n",
      "Epoch 00010: accuracy did not improve from 0.58950\n",
      "Epoch 11/200\n",
      "1067/1067 [==============================] - 3s 3ms/step - loss: 1.0179 - accuracy: 0.6354\n",
      "\n",
      "Epoch 00011: accuracy improved from 0.58950 to 0.63543, saving model to best_model.h5\n",
      "Epoch 12/200\n",
      "1067/1067 [==============================] - 3s 3ms/step - loss: 1.0491 - accuracy: 0.6523\n",
      "\n",
      "Epoch 00012: accuracy improved from 0.63543 to 0.65230, saving model to best_model.h5\n",
      "Epoch 13/200\n",
      "1067/1067 [==============================] - 3s 2ms/step - loss: 3.9478 - accuracy: 0.5736\n",
      "\n",
      "Epoch 00013: accuracy did not improve from 0.65230\n",
      "Epoch 14/200\n",
      "1067/1067 [==============================] - 3s 3ms/step - loss: 6.6671 - accuracy: 0.4649\n",
      "\n",
      "Epoch 00014: accuracy did not improve from 0.65230\n",
      "Epoch 15/200\n",
      "1067/1067 [==============================] - 3s 3ms/step - loss: 2.2747 - accuracy: 0.5558\n",
      "\n",
      "Epoch 00015: accuracy did not improve from 0.65230\n",
      "Epoch 16/200\n",
      "1067/1067 [==============================] - 3s 3ms/step - loss: 2.2734 - accuracy: 0.5042\n",
      "\n",
      "Epoch 00016: accuracy did not improve from 0.65230\n",
      "Epoch 17/200\n",
      "1067/1067 [==============================] - 3s 3ms/step - loss: 1.0888 - accuracy: 0.6289\n",
      "\n",
      "Epoch 00017: accuracy did not improve from 0.65230\n",
      "Epoch 18/200\n",
      "1067/1067 [==============================] - 3s 3ms/step - loss: 0.9019 - accuracy: 0.6448\n",
      "\n",
      "Epoch 00018: accuracy did not improve from 0.65230\n",
      "Epoch 19/200\n",
      "1067/1067 [==============================] - 3s 3ms/step - loss: 0.8939 - accuracy: 0.6888\n",
      "\n",
      "Epoch 00019: accuracy improved from 0.65230 to 0.68885, saving model to best_model.h5\n",
      "Epoch 20/200\n",
      "1067/1067 [==============================] - 3s 3ms/step - loss: 1.1958 - accuracy: 0.6298\n",
      "\n",
      "Epoch 00020: accuracy did not improve from 0.68885\n",
      "Epoch 21/200\n",
      "1067/1067 [==============================] - 3s 3ms/step - loss: 0.8539 - accuracy: 0.6729\n",
      "\n",
      "Epoch 00021: accuracy did not improve from 0.68885\n",
      "Epoch 22/200\n",
      "1067/1067 [==============================] - 3s 3ms/step - loss: 0.7312 - accuracy: 0.7310\n",
      "\n",
      "Epoch 00022: accuracy improved from 0.68885 to 0.73102, saving model to best_model.h5\n",
      "Epoch 23/200\n",
      "1067/1067 [==============================] - 3s 3ms/step - loss: 0.9922 - accuracy: 0.6607\n",
      "\n",
      "Epoch 00023: accuracy did not improve from 0.73102\n",
      "Epoch 24/200\n",
      "1067/1067 [==============================] - 3s 3ms/step - loss: 1.0726 - accuracy: 0.6823\n",
      "\n",
      "Epoch 00024: accuracy did not improve from 0.73102\n",
      "Epoch 25/200\n",
      "1067/1067 [==============================] - 3s 3ms/step - loss: 1.0499 - accuracy: 0.5989\n",
      "\n",
      "Epoch 00025: accuracy did not improve from 0.73102\n",
      "Epoch 26/200\n",
      "1067/1067 [==============================] - 3s 3ms/step - loss: 0.7964 - accuracy: 0.6898\n",
      "\n",
      "Epoch 00026: accuracy did not improve from 0.73102\n",
      "Epoch 27/200\n",
      "1067/1067 [==============================] - 3s 3ms/step - loss: 1.0410 - accuracy: 0.6757\n",
      "\n",
      "Epoch 00027: accuracy did not improve from 0.73102\n",
      "Epoch 28/200\n",
      "1067/1067 [==============================] - 3s 3ms/step - loss: 1.1883 - accuracy: 0.6382\n",
      "\n",
      "Epoch 00028: accuracy did not improve from 0.73102\n",
      "Epoch 29/200\n",
      "1067/1067 [==============================] - 3s 3ms/step - loss: 0.8674 - accuracy: 0.7151\n",
      "\n",
      "Epoch 00029: accuracy did not improve from 0.73102\n",
      "Epoch 30/200\n",
      "1067/1067 [==============================] - 3s 3ms/step - loss: 1.1015 - accuracy: 0.6757\n",
      "\n",
      "Epoch 00030: accuracy did not improve from 0.73102\n",
      "Epoch 31/200\n",
      "1067/1067 [==============================] - 3s 3ms/step - loss: 0.8460 - accuracy: 0.7291\n",
      "\n",
      "Epoch 00031: accuracy did not improve from 0.73102\n",
      "Epoch 32/200\n",
      "1067/1067 [==============================] - 3s 3ms/step - loss: 0.7399 - accuracy: 0.7376\n",
      "\n",
      "Epoch 00032: accuracy improved from 0.73102 to 0.73758, saving model to best_model.h5\n",
      "Epoch 33/200\n",
      "1067/1067 [==============================] - 3s 3ms/step - loss: 0.7539 - accuracy: 0.7413\n",
      "\n",
      "Epoch 00033: accuracy improved from 0.73758 to 0.74133, saving model to best_model.h5\n",
      "Epoch 34/200\n",
      "1067/1067 [==============================] - 3s 3ms/step - loss: 0.6020 - accuracy: 0.7938\n",
      "\n",
      "Epoch 00034: accuracy improved from 0.74133 to 0.79381, saving model to best_model.h5\n",
      "Epoch 35/200\n",
      "1067/1067 [==============================] - 3s 3ms/step - loss: 0.7037 - accuracy: 0.7516\n",
      "\n",
      "Epoch 00035: accuracy did not improve from 0.79381\n",
      "Epoch 36/200\n",
      "1067/1067 [==============================] - 3s 3ms/step - loss: 0.6993 - accuracy: 0.7498\n",
      "\n",
      "Epoch 00036: accuracy did not improve from 0.79381\n",
      "Epoch 37/200\n",
      "1067/1067 [==============================] - 3s 3ms/step - loss: 0.5787 - accuracy: 0.7891\n",
      "\n",
      "Epoch 00037: accuracy did not improve from 0.79381\n",
      "Epoch 38/200\n",
      "1067/1067 [==============================] - 3s 3ms/step - loss: 0.6116 - accuracy: 0.7769\n",
      "\n",
      "Epoch 00038: accuracy did not improve from 0.79381\n",
      "Epoch 39/200\n",
      "1067/1067 [==============================] - 3s 3ms/step - loss: 0.8302 - accuracy: 0.6907\n",
      "\n",
      "Epoch 00039: accuracy did not improve from 0.79381\n",
      "Epoch 40/200\n",
      "1067/1067 [==============================] - 3s 3ms/step - loss: 0.5600 - accuracy: 0.8135\n",
      "\n",
      "Epoch 00040: accuracy improved from 0.79381 to 0.81350, saving model to best_model.h5\n",
      "Epoch 41/200\n",
      "1067/1067 [==============================] - 3s 3ms/step - loss: 1.5187 - accuracy: 0.6992\n",
      "\n",
      "Epoch 00041: accuracy did not improve from 0.81350\n",
      "Epoch 42/200\n",
      "1067/1067 [==============================] - 3s 3ms/step - loss: 1.6783 - accuracy: 0.6073\n",
      "\n",
      "Epoch 00042: accuracy did not improve from 0.81350\n",
      "Epoch 43/200\n",
      "1067/1067 [==============================] - 3s 3ms/step - loss: 1.4549 - accuracy: 0.6195\n",
      "\n",
      "Epoch 00043: accuracy did not improve from 0.81350\n",
      "Epoch 44/200\n",
      "1067/1067 [==============================] - 3s 3ms/step - loss: 1.9326 - accuracy: 0.5895\n",
      "\n",
      "Epoch 00044: accuracy did not improve from 0.81350\n",
      "Epoch 45/200\n",
      "1067/1067 [==============================] - 3s 3ms/step - loss: 0.9061 - accuracy: 0.7338\n",
      "\n",
      "Epoch 00045: accuracy did not improve from 0.81350\n",
      "Epoch 46/200\n",
      "1067/1067 [==============================] - 3s 3ms/step - loss: 0.8292 - accuracy: 0.7666\n",
      "\n",
      "Epoch 00046: accuracy did not improve from 0.81350\n",
      "Epoch 47/200\n",
      "1067/1067 [==============================] - 3s 3ms/step - loss: 1.0864 - accuracy: 0.7001\n",
      "\n",
      "Epoch 00047: accuracy did not improve from 0.81350\n",
      "Epoch 48/200\n",
      "1067/1067 [==============================] - 3s 3ms/step - loss: 0.8132 - accuracy: 0.7366\n",
      "\n",
      "Epoch 00048: accuracy did not improve from 0.81350\n",
      "Epoch 49/200\n",
      "1067/1067 [==============================] - 3s 3ms/step - loss: 0.6835 - accuracy: 0.7713\n",
      "\n",
      "Epoch 00049: accuracy did not improve from 0.81350\n",
      "Epoch 50/200\n",
      "1067/1067 [==============================] - 3s 3ms/step - loss: 0.8012 - accuracy: 0.7666\n"
     ]
    },
    {
     "name": "stdout",
     "output_type": "stream",
     "text": [
      "\n",
      "Epoch 00050: accuracy did not improve from 0.81350\n",
      "Epoch 51/200\n",
      "1067/1067 [==============================] - 3s 2ms/step - loss: 0.6731 - accuracy: 0.7732\n",
      "\n",
      "Epoch 00051: accuracy did not improve from 0.81350\n",
      "Epoch 52/200\n",
      "1067/1067 [==============================] - 3s 2ms/step - loss: 0.9664 - accuracy: 0.7001\n",
      "\n",
      "Epoch 00052: accuracy did not improve from 0.81350\n",
      "Epoch 53/200\n",
      "1067/1067 [==============================] - 3s 2ms/step - loss: 1.0313 - accuracy: 0.6495\n",
      "\n",
      "Epoch 00053: accuracy did not improve from 0.81350\n",
      "Epoch 54/200\n",
      "1067/1067 [==============================] - 3s 2ms/step - loss: 0.7443 - accuracy: 0.7460\n",
      "\n",
      "Epoch 00054: accuracy did not improve from 0.81350\n",
      "Epoch 55/200\n",
      "1067/1067 [==============================] - 3s 2ms/step - loss: 0.6823 - accuracy: 0.7751\n",
      "\n",
      "Epoch 00055: accuracy did not improve from 0.81350\n",
      "Epoch 56/200\n",
      "1067/1067 [==============================] - 3s 2ms/step - loss: 0.6564 - accuracy: 0.7629\n",
      "\n",
      "Epoch 00056: accuracy did not improve from 0.81350\n",
      "Epoch 57/200\n",
      "1067/1067 [==============================] - 3s 2ms/step - loss: 0.5367 - accuracy: 0.8107\n",
      "\n",
      "Epoch 00057: accuracy did not improve from 0.81350\n",
      "Epoch 58/200\n",
      "1067/1067 [==============================] - 3s 2ms/step - loss: 0.5959 - accuracy: 0.7901\n",
      "\n",
      "Epoch 00058: accuracy did not improve from 0.81350\n",
      "Epoch 59/200\n",
      "1067/1067 [==============================] - 3s 2ms/step - loss: 0.6240 - accuracy: 0.7769\n",
      "\n",
      "Epoch 00059: accuracy did not improve from 0.81350\n",
      "Epoch 60/200\n",
      "1067/1067 [==============================] - 3s 2ms/step - loss: 0.5324 - accuracy: 0.8210\n",
      "\n",
      "Epoch 00060: accuracy improved from 0.81350 to 0.82099, saving model to best_model.h5\n",
      "Epoch 61/200\n",
      "1067/1067 [==============================] - 3s 2ms/step - loss: 0.5180 - accuracy: 0.8182\n",
      "\n",
      "Epoch 00061: accuracy did not improve from 0.82099\n",
      "Epoch 62/200\n",
      "1067/1067 [==============================] - 3s 2ms/step - loss: 0.5084 - accuracy: 0.8191\n",
      "\n",
      "Epoch 00062: accuracy did not improve from 0.82099\n",
      "Epoch 63/200\n",
      "1067/1067 [==============================] - 3s 2ms/step - loss: 0.4681 - accuracy: 0.8341\n",
      "\n",
      "Epoch 00063: accuracy improved from 0.82099 to 0.83411, saving model to best_model.h5\n",
      "Epoch 64/200\n",
      "1067/1067 [==============================] - 3s 2ms/step - loss: 0.4204 - accuracy: 0.8472\n",
      "\n",
      "Epoch 00064: accuracy improved from 0.83411 to 0.84724, saving model to best_model.h5\n",
      "Epoch 65/200\n",
      "1067/1067 [==============================] - 3s 2ms/step - loss: 0.5334 - accuracy: 0.8257\n",
      "\n",
      "Epoch 00065: accuracy did not improve from 0.84724\n",
      "Epoch 66/200\n",
      "1067/1067 [==============================] - 3s 2ms/step - loss: 1.1369 - accuracy: 0.6645\n",
      "\n",
      "Epoch 00066: accuracy did not improve from 0.84724\n",
      "Epoch 67/200\n",
      "1067/1067 [==============================] - 3s 2ms/step - loss: 1.0085 - accuracy: 0.7320\n",
      "\n",
      "Epoch 00067: accuracy did not improve from 0.84724\n",
      "Epoch 68/200\n",
      "1067/1067 [==============================] - 3s 2ms/step - loss: 0.6779 - accuracy: 0.7779\n",
      "\n",
      "Epoch 00068: accuracy did not improve from 0.84724\n",
      "Epoch 69/200\n",
      "1067/1067 [==============================] - 3s 2ms/step - loss: 0.8432 - accuracy: 0.7395\n",
      "\n",
      "Epoch 00069: accuracy did not improve from 0.84724\n",
      "Epoch 70/200\n",
      "1067/1067 [==============================] - 3s 3ms/step - loss: 0.7677 - accuracy: 0.7535\n",
      "\n",
      "Epoch 00070: accuracy did not improve from 0.84724\n",
      "Epoch 71/200\n",
      "1067/1067 [==============================] - 3s 2ms/step - loss: 0.5854 - accuracy: 0.7966\n",
      "\n",
      "Epoch 00071: accuracy did not improve from 0.84724\n",
      "Epoch 72/200\n",
      "1067/1067 [==============================] - 3s 2ms/step - loss: 0.5163 - accuracy: 0.8135\n",
      "\n",
      "Epoch 00072: accuracy did not improve from 0.84724\n",
      "Epoch 73/200\n",
      "1067/1067 [==============================] - 3s 2ms/step - loss: 1.2493 - accuracy: 0.7385\n",
      "\n",
      "Epoch 00073: accuracy did not improve from 0.84724\n",
      "Epoch 74/200\n",
      "1067/1067 [==============================] - 3s 2ms/step - loss: 1.2668 - accuracy: 0.7085\n",
      "\n",
      "Epoch 00074: accuracy did not improve from 0.84724\n",
      "Epoch 75/200\n",
      "1067/1067 [==============================] - 2s 2ms/step - loss: 0.7275 - accuracy: 0.7788\n",
      "\n",
      "Epoch 00075: accuracy did not improve from 0.84724\n",
      "Epoch 76/200\n",
      "1067/1067 [==============================] - 3s 2ms/step - loss: 1.5551 - accuracy: 0.6954\n",
      "\n",
      "Epoch 00076: accuracy did not improve from 0.84724\n",
      "Epoch 77/200\n",
      "1067/1067 [==============================] - 3s 2ms/step - loss: 0.9144 - accuracy: 0.7470\n",
      "\n",
      "Epoch 00077: accuracy did not improve from 0.84724\n",
      "Epoch 78/200\n",
      "1067/1067 [==============================] - 3s 3ms/step - loss: 0.8850 - accuracy: 0.7310\n",
      "\n",
      "Epoch 00078: accuracy did not improve from 0.84724\n",
      "Epoch 79/200\n",
      "1067/1067 [==============================] - 3s 3ms/step - loss: 0.8321 - accuracy: 0.7526\n",
      "\n",
      "Epoch 00079: accuracy did not improve from 0.84724\n",
      "Epoch 80/200\n",
      "1067/1067 [==============================] - 3s 2ms/step - loss: 0.7474 - accuracy: 0.7498\n",
      "\n",
      "Epoch 00080: accuracy did not improve from 0.84724\n",
      "Epoch 81/200\n",
      "1067/1067 [==============================] - 3s 2ms/step - loss: 0.5162 - accuracy: 0.8407\n",
      "\n",
      "Epoch 00081: accuracy did not improve from 0.84724\n",
      "Epoch 82/200\n",
      "1067/1067 [==============================] - 3s 2ms/step - loss: 0.5286 - accuracy: 0.8313\n",
      "\n",
      "Epoch 00082: accuracy did not improve from 0.84724\n",
      "Epoch 83/200\n",
      "1067/1067 [==============================] - 3s 2ms/step - loss: 0.6020 - accuracy: 0.8051\n",
      "\n",
      "Epoch 00083: accuracy did not improve from 0.84724\n",
      "Epoch 84/200\n",
      "1067/1067 [==============================] - 3s 3ms/step - loss: 0.4566 - accuracy: 0.8435\n",
      "\n",
      "Epoch 00084: accuracy did not improve from 0.84724\n",
      "Epoch 85/200\n",
      "1067/1067 [==============================] - 3s 3ms/step - loss: 0.4322 - accuracy: 0.8575\n",
      "\n",
      "Epoch 00085: accuracy improved from 0.84724 to 0.85754, saving model to best_model.h5\n",
      "Epoch 86/200\n",
      "1067/1067 [==============================] - 3s 3ms/step - loss: 0.4311 - accuracy: 0.8407\n",
      "\n",
      "Epoch 00086: accuracy did not improve from 0.85754\n",
      "Epoch 87/200\n",
      "1067/1067 [==============================] - 3s 2ms/step - loss: 0.4053 - accuracy: 0.8547\n",
      "\n",
      "Epoch 00087: accuracy did not improve from 0.85754\n",
      "Epoch 88/200\n",
      "1067/1067 [==============================] - 3s 3ms/step - loss: 0.4722 - accuracy: 0.8276\n",
      "\n",
      "Epoch 00088: accuracy did not improve from 0.85754\n",
      "Epoch 89/200\n",
      "1067/1067 [==============================] - 3s 3ms/step - loss: 0.4208 - accuracy: 0.8585\n",
      "\n",
      "Epoch 00089: accuracy improved from 0.85754 to 0.85848, saving model to best_model.h5\n",
      "Epoch 90/200\n",
      "1067/1067 [==============================] - 3s 3ms/step - loss: 0.4004 - accuracy: 0.8669\n",
      "\n",
      "Epoch 00090: accuracy improved from 0.85848 to 0.86692, saving model to best_model.h5\n",
      "Epoch 91/200\n",
      "1067/1067 [==============================] - 3s 2ms/step - loss: 0.3726 - accuracy: 0.8772\n",
      "\n",
      "Epoch 00091: accuracy improved from 0.86692 to 0.87723, saving model to best_model.h5\n",
      "Epoch 92/200\n",
      "1067/1067 [==============================] - 3s 2ms/step - loss: 0.3595 - accuracy: 0.8688\n",
      "\n",
      "Epoch 00092: accuracy did not improve from 0.87723\n",
      "Epoch 93/200\n",
      "1067/1067 [==============================] - 3s 3ms/step - loss: 0.3652 - accuracy: 0.8800\n",
      "\n",
      "Epoch 00093: accuracy improved from 0.87723 to 0.88004, saving model to best_model.h5\n",
      "Epoch 94/200\n",
      "1067/1067 [==============================] - 3s 2ms/step - loss: 0.5098 - accuracy: 0.8360\n",
      "\n",
      "Epoch 00094: accuracy did not improve from 0.88004\n",
      "Epoch 95/200\n",
      "1067/1067 [==============================] - 3s 2ms/step - loss: 0.3695 - accuracy: 0.8763\n",
      "\n",
      "Epoch 00095: accuracy did not improve from 0.88004\n",
      "Epoch 96/200\n",
      "1067/1067 [==============================] - 3s 3ms/step - loss: 0.4160 - accuracy: 0.8575\n",
      "\n",
      "Epoch 00096: accuracy did not improve from 0.88004\n",
      "Epoch 97/200\n",
      "1067/1067 [==============================] - 3s 3ms/step - loss: 0.4413 - accuracy: 0.8650\n",
      "\n",
      "Epoch 00097: accuracy did not improve from 0.88004\n",
      "Epoch 98/200\n",
      "1067/1067 [==============================] - 3s 3ms/step - loss: 0.3993 - accuracy: 0.8763\n",
      "\n",
      "Epoch 00098: accuracy did not improve from 0.88004\n",
      "Epoch 99/200\n",
      "1067/1067 [==============================] - 3s 3ms/step - loss: 0.3534 - accuracy: 0.8763\n",
      "\n",
      "Epoch 00099: accuracy did not improve from 0.88004\n",
      "Epoch 100/200\n",
      "1067/1067 [==============================] - 3s 3ms/step - loss: 0.5690 - accuracy: 0.8257\n",
      "\n",
      "Epoch 00100: accuracy did not improve from 0.88004\n",
      "Epoch 101/200\n"
     ]
    },
    {
     "name": "stdout",
     "output_type": "stream",
     "text": [
      "1067/1067 [==============================] - 3s 2ms/step - loss: 0.3788 - accuracy: 0.8669\n",
      "\n",
      "Epoch 00101: accuracy did not improve from 0.88004\n",
      "Epoch 102/200\n",
      "1067/1067 [==============================] - 3s 2ms/step - loss: 0.3497 - accuracy: 0.8857\n",
      "\n",
      "Epoch 00102: accuracy improved from 0.88004 to 0.88566, saving model to best_model.h5\n",
      "Epoch 103/200\n",
      "1067/1067 [==============================] - 3s 2ms/step - loss: 0.3827 - accuracy: 0.8679\n",
      "\n",
      "Epoch 00103: accuracy did not improve from 0.88566\n",
      "Epoch 104/200\n",
      "1067/1067 [==============================] - 3s 2ms/step - loss: 0.7266 - accuracy: 0.8013\n",
      "\n",
      "Epoch 00104: accuracy did not improve from 0.88566\n",
      "Epoch 105/200\n",
      "1067/1067 [==============================] - 3s 2ms/step - loss: 0.5458 - accuracy: 0.8285\n",
      "\n",
      "Epoch 00105: accuracy did not improve from 0.88566\n",
      "Epoch 106/200\n",
      "1067/1067 [==============================] - 3s 2ms/step - loss: 0.3518 - accuracy: 0.8932\n",
      "\n",
      "Epoch 00106: accuracy improved from 0.88566 to 0.89316, saving model to best_model.h5\n",
      "Epoch 107/200\n",
      "1067/1067 [==============================] - 3s 2ms/step - loss: 0.3448 - accuracy: 0.8744\n",
      "\n",
      "Epoch 00107: accuracy did not improve from 0.89316\n",
      "Epoch 108/200\n",
      "1067/1067 [==============================] - 3s 2ms/step - loss: 0.3859 - accuracy: 0.8604\n",
      "\n",
      "Epoch 00108: accuracy did not improve from 0.89316\n",
      "Epoch 109/200\n",
      "1067/1067 [==============================] - 3s 2ms/step - loss: 0.4860 - accuracy: 0.8510\n",
      "\n",
      "Epoch 00109: accuracy did not improve from 0.89316\n",
      "Epoch 110/200\n",
      "1067/1067 [==============================] - 3s 2ms/step - loss: 0.3494 - accuracy: 0.8922\n",
      "\n",
      "Epoch 00110: accuracy did not improve from 0.89316\n",
      "Epoch 111/200\n",
      "1067/1067 [==============================] - 3s 2ms/step - loss: 0.4045 - accuracy: 0.8669\n",
      "\n",
      "Epoch 00111: accuracy did not improve from 0.89316\n",
      "Epoch 112/200\n",
      "1067/1067 [==============================] - 3s 2ms/step - loss: 0.3134 - accuracy: 0.8941\n",
      "\n",
      "Epoch 00112: accuracy improved from 0.89316 to 0.89410, saving model to best_model.h5\n",
      "Epoch 113/200\n",
      "1067/1067 [==============================] - 3s 2ms/step - loss: 0.2980 - accuracy: 0.8894\n",
      "\n",
      "Epoch 00113: accuracy did not improve from 0.89410\n",
      "Epoch 114/200\n",
      "1067/1067 [==============================] - 3s 2ms/step - loss: 0.2790 - accuracy: 0.9091\n",
      "\n",
      "Epoch 00114: accuracy improved from 0.89410 to 0.90909, saving model to best_model.h5\n",
      "Epoch 115/200\n",
      "1067/1067 [==============================] - 3s 2ms/step - loss: 0.2957 - accuracy: 0.8922\n",
      "\n",
      "Epoch 00115: accuracy did not improve from 0.90909\n",
      "Epoch 116/200\n",
      "1067/1067 [==============================] - 3s 3ms/step - loss: 0.3433 - accuracy: 0.8782\n",
      "\n",
      "Epoch 00116: accuracy did not improve from 0.90909\n",
      "Epoch 117/200\n",
      "1067/1067 [==============================] - 3s 2ms/step - loss: 0.3103 - accuracy: 0.8932\n",
      "\n",
      "Epoch 00117: accuracy did not improve from 0.90909\n",
      "Epoch 118/200\n",
      "1067/1067 [==============================] - 3s 2ms/step - loss: 0.2964 - accuracy: 0.8894\n",
      "\n",
      "Epoch 00118: accuracy did not improve from 0.90909\n",
      "Epoch 119/200\n",
      "1067/1067 [==============================] - 3s 2ms/step - loss: 0.4625 - accuracy: 0.8210\n",
      "\n",
      "Epoch 00119: accuracy did not improve from 0.90909\n",
      "Epoch 120/200\n",
      "1067/1067 [==============================] - 3s 3ms/step - loss: 0.2739 - accuracy: 0.9128\n",
      "\n",
      "Epoch 00120: accuracy improved from 0.90909 to 0.91284, saving model to best_model.h5\n",
      "Epoch 121/200\n",
      "1067/1067 [==============================] - 3s 2ms/step - loss: 0.2779 - accuracy: 0.9063\n",
      "\n",
      "Epoch 00121: accuracy did not improve from 0.91284\n",
      "Epoch 122/200\n",
      "1067/1067 [==============================] - 3s 2ms/step - loss: 0.2619 - accuracy: 0.9100\n",
      "\n",
      "Epoch 00122: accuracy did not improve from 0.91284\n",
      "Epoch 123/200\n",
      "1067/1067 [==============================] - 2s 2ms/step - loss: 0.2796 - accuracy: 0.8960\n",
      "\n",
      "Epoch 00123: accuracy did not improve from 0.91284\n",
      "Epoch 124/200\n",
      "1067/1067 [==============================] - 3s 2ms/step - loss: 0.2668 - accuracy: 0.8941\n",
      "\n",
      "Epoch 00124: accuracy did not improve from 0.91284\n",
      "Epoch 125/200\n",
      "1067/1067 [==============================] - 3s 2ms/step - loss: 0.2998 - accuracy: 0.9091\n",
      "\n",
      "Epoch 00125: accuracy did not improve from 0.91284\n",
      "Epoch 126/200\n",
      "1067/1067 [==============================] - 3s 2ms/step - loss: 0.2743 - accuracy: 0.9063\n",
      "\n",
      "Epoch 00126: accuracy did not improve from 0.91284\n",
      "Epoch 127/200\n",
      "1067/1067 [==============================] - 3s 2ms/step - loss: 0.3152 - accuracy: 0.8828\n",
      "\n",
      "Epoch 00127: accuracy did not improve from 0.91284\n",
      "Epoch 128/200\n",
      "1067/1067 [==============================] - 3s 2ms/step - loss: 0.2639 - accuracy: 0.9110\n",
      "\n",
      "Epoch 00128: accuracy did not improve from 0.91284\n",
      "Epoch 129/200\n",
      "1067/1067 [==============================] - 3s 3ms/step - loss: 0.2247 - accuracy: 0.9231\n",
      "\n",
      "Epoch 00129: accuracy improved from 0.91284 to 0.92315, saving model to best_model.h5\n",
      "Epoch 130/200\n",
      "1067/1067 [==============================] - 3s 3ms/step - loss: 0.1985 - accuracy: 0.9363\n",
      "\n",
      "Epoch 00130: accuracy improved from 0.92315 to 0.93627, saving model to best_model.h5\n",
      "Epoch 131/200\n",
      "1067/1067 [==============================] - 3s 2ms/step - loss: 0.6240 - accuracy: 0.8107\n",
      "\n",
      "Epoch 00131: accuracy did not improve from 0.93627\n",
      "Epoch 132/200\n",
      "1067/1067 [==============================] - 3s 2ms/step - loss: 0.3300 - accuracy: 0.8978\n",
      "\n",
      "Epoch 00132: accuracy did not improve from 0.93627\n",
      "Epoch 133/200\n",
      "1067/1067 [==============================] - 3s 3ms/step - loss: 0.3464 - accuracy: 0.8885\n",
      "\n",
      "Epoch 00133: accuracy did not improve from 0.93627\n",
      "Epoch 134/200\n",
      "1067/1067 [==============================] - 3s 2ms/step - loss: 0.3646 - accuracy: 0.8800\n",
      "\n",
      "Epoch 00134: accuracy did not improve from 0.93627\n",
      "Epoch 135/200\n",
      "1067/1067 [==============================] - 3s 2ms/step - loss: 0.3099 - accuracy: 0.8885\n",
      "\n",
      "Epoch 00135: accuracy did not improve from 0.93627\n",
      "Epoch 136/200\n",
      "1067/1067 [==============================] - 3s 3ms/step - loss: 1.1964 - accuracy: 0.7451\n",
      "\n",
      "Epoch 00136: accuracy did not improve from 0.93627\n",
      "Epoch 137/200\n",
      "1067/1067 [==============================] - 3s 3ms/step - loss: 0.5676 - accuracy: 0.8482\n",
      "\n",
      "Epoch 00137: accuracy did not improve from 0.93627\n",
      "Epoch 138/200\n",
      "1067/1067 [==============================] - 3s 3ms/step - loss: 0.9532 - accuracy: 0.7760\n",
      "\n",
      "Epoch 00138: accuracy did not improve from 0.93627\n",
      "Epoch 139/200\n",
      "1067/1067 [==============================] - 3s 2ms/step - loss: 1.3021 - accuracy: 0.7273\n",
      "\n",
      "Epoch 00139: accuracy did not improve from 0.93627\n",
      "Epoch 140/200\n",
      "1067/1067 [==============================] - 3s 2ms/step - loss: 0.8949 - accuracy: 0.7563\n",
      "\n",
      "Epoch 00140: accuracy did not improve from 0.93627\n",
      "Epoch 141/200\n",
      "1067/1067 [==============================] - 3s 3ms/step - loss: 0.6876 - accuracy: 0.8116\n",
      "\n",
      "Epoch 00141: accuracy did not improve from 0.93627\n",
      "Epoch 142/200\n",
      "1067/1067 [==============================] - 3s 3ms/step - loss: 0.7504 - accuracy: 0.7966\n",
      "\n",
      "Epoch 00142: accuracy did not improve from 0.93627\n",
      "Epoch 143/200\n",
      "1067/1067 [==============================] - 3s 3ms/step - loss: 0.4516 - accuracy: 0.8341\n",
      "\n",
      "Epoch 00143: accuracy did not improve from 0.93627\n",
      "Epoch 144/200\n",
      "1067/1067 [==============================] - 3s 2ms/step - loss: 0.3198 - accuracy: 0.8950\n",
      "\n",
      "Epoch 00144: accuracy did not improve from 0.93627\n",
      "Epoch 145/200\n",
      "1067/1067 [==============================] - 3s 3ms/step - loss: 0.3380 - accuracy: 0.8941\n",
      "\n",
      "Epoch 00145: accuracy did not improve from 0.93627\n",
      "Epoch 146/200\n",
      "1067/1067 [==============================] - 3s 2ms/step - loss: 0.2646 - accuracy: 0.9194\n",
      "\n",
      "Epoch 00146: accuracy did not improve from 0.93627\n",
      "Epoch 147/200\n",
      "1067/1067 [==============================] - 3s 3ms/step - loss: 0.2589 - accuracy: 0.9222\n",
      "\n",
      "Epoch 00147: accuracy did not improve from 0.93627\n",
      "Epoch 148/200\n",
      "1067/1067 [==============================] - 3s 3ms/step - loss: 0.2539 - accuracy: 0.9166\n",
      "\n",
      "Epoch 00148: accuracy did not improve from 0.93627\n",
      "Epoch 149/200\n",
      "1067/1067 [==============================] - 3s 3ms/step - loss: 0.2614 - accuracy: 0.9157\n",
      "\n",
      "Epoch 00149: accuracy did not improve from 0.93627\n",
      "Epoch 150/200\n",
      "1067/1067 [==============================] - 3s 3ms/step - loss: 0.3035 - accuracy: 0.8969\n",
      "\n",
      "Epoch 00150: accuracy did not improve from 0.93627\n",
      "Epoch 151/200\n",
      "1067/1067 [==============================] - 3s 3ms/step - loss: 0.2416 - accuracy: 0.9157\n",
      "\n",
      "Epoch 00151: accuracy did not improve from 0.93627\n",
      "Epoch 152/200\n"
     ]
    },
    {
     "name": "stdout",
     "output_type": "stream",
     "text": [
      "1067/1067 [==============================] - 3s 2ms/step - loss: 0.2874 - accuracy: 0.8969\n",
      "\n",
      "Epoch 00152: accuracy did not improve from 0.93627\n",
      "Epoch 153/200\n",
      "1067/1067 [==============================] - 2s 2ms/step - loss: 0.5283 - accuracy: 0.8276\n",
      "\n",
      "Epoch 00153: accuracy did not improve from 0.93627\n",
      "Epoch 154/200\n",
      "1067/1067 [==============================] - 3s 2ms/step - loss: 0.3491 - accuracy: 0.8688\n",
      "\n",
      "Epoch 00154: accuracy did not improve from 0.93627\n",
      "Epoch 155/200\n",
      "1067/1067 [==============================] - 3s 2ms/step - loss: 0.3283 - accuracy: 0.8941\n",
      "\n",
      "Epoch 00155: accuracy did not improve from 0.93627\n",
      "Epoch 156/200\n",
      "1067/1067 [==============================] - 3s 2ms/step - loss: 0.2831 - accuracy: 0.9194\n",
      "\n",
      "Epoch 00156: accuracy did not improve from 0.93627\n",
      "Epoch 157/200\n",
      "1067/1067 [==============================] - 3s 2ms/step - loss: 0.2220 - accuracy: 0.9278\n",
      "\n",
      "Epoch 00157: accuracy did not improve from 0.93627\n",
      "Epoch 158/200\n",
      "1067/1067 [==============================] - 3s 2ms/step - loss: 0.2129 - accuracy: 0.9288\n",
      "\n",
      "Epoch 00158: accuracy did not improve from 0.93627\n",
      "Epoch 159/200\n",
      "1067/1067 [==============================] - 3s 2ms/step - loss: 0.2106 - accuracy: 0.9269\n",
      "\n",
      "Epoch 00159: accuracy did not improve from 0.93627\n",
      "Epoch 160/200\n",
      "1067/1067 [==============================] - 3s 2ms/step - loss: 0.2277 - accuracy: 0.9157\n",
      "\n",
      "Epoch 00160: accuracy did not improve from 0.93627\n",
      "Epoch 00160: early stopping\n"
     ]
    }
   ],
   "source": [
    "#training of the model\n",
    "trained_model = model.fit(X_train, y_train, epochs = 200, verbose = 1,callbacks=[early_stopping, mc])"
   ]
  },
  {
   "cell_type": "code",
   "execution_count": 82,
   "metadata": {},
   "outputs": [
    {
     "data": {
      "text/plain": [
       "dict_keys(['loss', 'accuracy'])"
      ]
     },
     "execution_count": 82,
     "metadata": {},
     "output_type": "execute_result"
    }
   ],
   "source": [
    "trained_model.history.keys()"
   ]
  },
  {
   "cell_type": "markdown",
   "metadata": {},
   "source": [
    "# Graph Representation"
   ]
  },
  {
   "cell_type": "code",
   "execution_count": 83,
   "metadata": {},
   "outputs": [
    {
     "data": {
      "image/png": "[encoded data removed]",
      "text/plain": [
       "<Figure size 1080x648 with 1 Axes>"
      ]
     },
     "metadata": {},
     "output_type": "display_data"
    }
   ],
   "source": [
    "plt.figure(figsize = (15,9))\n",
    "plt.plot(trained_model.history[\"loss\"], label = \"loss\")\n",
    "plt.title(\"LOSS GRAPH\")\n",
    "plt.xlabel(\"Epochs\")\n",
    "plt.ylabel(\"LOSS\")\n",
    "plt.legend()\n",
    "plt.show()"
   ]
  },
  {
   "cell_type": "code",
   "execution_count": 84,
   "metadata": {},
   "outputs": [
    {
     "data": {
      "image/png": "[encoded data removed]",
      "text/plain": [
       "<Figure size 1080x648 with 1 Axes>"
      ]
     },
     "metadata": {},
     "output_type": "display_data"
    }
   ],
   "source": [
    "plt.figure(figsize = (15,9))\n",
    "plt.plot(trained_model.history[\"accuracy\"], label = \"accuracy\")\n",
    "plt.title(\"ACCURACY GRAPH\")\n",
    "plt.xlabel(\"Epochs\")\n",
    "plt.ylabel(\"Accuracy\")\n",
    "plt.legend()\n",
    "plt.show()"
   ]
  },
  {
   "cell_type": "markdown",
   "metadata": {},
   "source": [
    "# Testing of the Best saved model"
   ]
  },
  {
   "cell_type": "code",
   "execution_count": 85,
   "metadata": {},
   "outputs": [
    {
     "name": "stdout",
     "output_type": "stream",
     "text": [
      "267/267 [==============================] - 1s 3ms/sample - loss: 0.3054 - accuracy: 0.8914\n"
     ]
    }
   ],
   "source": [
    "#evaluating the model\n",
    "from tensorflow import keras\n",
    "best_model=keras.models.load_model(\"best_model.h5\")\n",
    "score = best_model.evaluate(X_test,y_test)"
   ]
  },
  {
   "cell_type": "code",
   "execution_count": 86,
   "metadata": {},
   "outputs": [
    {
     "data": {
      "text/plain": [
       "[0.30538298435202255, 0.8913858]"
      ]
     },
     "execution_count": 86,
     "metadata": {},
     "output_type": "execute_result"
    }
   ],
   "source": [
    "#checking the score of loss and accuracy\n",
    "score"
   ]
  },
  {
   "cell_type": "code",
   "execution_count": 87,
   "metadata": {},
   "outputs": [
    {
     "data": {
      "text/plain": [
       "['loss', 'accuracy']"
      ]
     },
     "execution_count": 87,
     "metadata": {},
     "output_type": "execute_result"
    }
   ],
   "source": [
    "best_model.metrics_names"
   ]
  },
  {
   "cell_type": "code",
   "execution_count": 88,
   "metadata": {},
   "outputs": [
    {
     "name": "stdout",
     "output_type": "stream",
     "text": [
      "267/267 [==============================] - 0s 1ms/sample\n"
     ]
    }
   ],
   "source": [
    "predictions=best_model.predict_classes(X_test,verbose=1)"
   ]
  },
  {
   "cell_type": "code",
   "execution_count": 89,
   "metadata": {},
   "outputs": [
    {
     "name": "stdout",
     "output_type": "stream",
     "text": [
      "0\n",
      "0\n",
      "2\n",
      "0\n",
      "5\n",
      "0\n",
      "0\n",
      "2\n",
      "0\n",
      "5\n",
      "5\n",
      "3\n",
      "0\n",
      "3\n",
      "0\n",
      "0\n",
      "3\n",
      "3\n",
      "3\n",
      "0\n",
      "3\n",
      "0\n",
      "0\n",
      "0\n",
      "3\n",
      "3\n",
      "0\n",
      "0\n",
      "0\n",
      "0\n",
      "3\n",
      "0\n",
      "4\n",
      "1\n",
      "0\n",
      "0\n",
      "3\n",
      "0\n",
      "0\n",
      "0\n",
      "0\n",
      "2\n",
      "0\n",
      "0\n",
      "3\n",
      "1\n",
      "0\n",
      "0\n",
      "3\n",
      "1\n",
      "1\n",
      "0\n",
      "3\n",
      "0\n",
      "0\n",
      "0\n",
      "0\n",
      "3\n",
      "0\n",
      "5\n",
      "1\n",
      "0\n",
      "0\n",
      "3\n",
      "1\n",
      "0\n",
      "0\n",
      "0\n",
      "0\n",
      "0\n",
      "2\n",
      "5\n",
      "3\n",
      "0\n",
      "0\n",
      "0\n",
      "4\n",
      "3\n",
      "0\n",
      "3\n",
      "2\n",
      "3\n",
      "2\n",
      "1\n",
      "3\n",
      "0\n",
      "0\n",
      "3\n",
      "0\n",
      "2\n",
      "0\n",
      "1\n",
      "2\n",
      "2\n",
      "1\n",
      "3\n",
      "0\n",
      "5\n",
      "2\n",
      "0\n",
      "2\n",
      "0\n",
      "5\n",
      "0\n",
      "3\n",
      "3\n",
      "2\n",
      "2\n",
      "5\n",
      "0\n",
      "3\n",
      "3\n",
      "3\n",
      "0\n",
      "3\n",
      "0\n",
      "3\n",
      "3\n",
      "0\n",
      "3\n",
      "0\n",
      "0\n",
      "0\n",
      "1\n",
      "4\n",
      "0\n",
      "1\n",
      "3\n",
      "0\n",
      "0\n",
      "3\n",
      "0\n",
      "2\n",
      "0\n",
      "3\n",
      "0\n",
      "2\n",
      "1\n",
      "0\n",
      "2\n",
      "0\n",
      "5\n",
      "2\n",
      "2\n",
      "4\n",
      "3\n",
      "0\n",
      "3\n",
      "3\n",
      "0\n",
      "0\n",
      "0\n",
      "3\n",
      "0\n",
      "5\n",
      "5\n",
      "0\n",
      "3\n",
      "3\n",
      "3\n",
      "0\n",
      "0\n",
      "3\n",
      "0\n",
      "3\n",
      "0\n",
      "0\n",
      "0\n",
      "3\n",
      "0\n",
      "3\n",
      "0\n",
      "3\n",
      "2\n",
      "3\n",
      "4\n",
      "3\n",
      "0\n",
      "2\n",
      "1\n",
      "3\n",
      "3\n",
      "3\n",
      "0\n",
      "3\n",
      "2\n",
      "1\n",
      "0\n",
      "3\n",
      "0\n",
      "1\n",
      "0\n",
      "0\n",
      "0\n",
      "0\n",
      "4\n",
      "2\n",
      "3\n",
      "3\n",
      "1\n",
      "3\n",
      "0\n",
      "0\n",
      "2\n",
      "2\n",
      "2\n",
      "3\n",
      "0\n",
      "2\n",
      "1\n",
      "0\n",
      "0\n",
      "0\n",
      "0\n",
      "0\n",
      "3\n",
      "0\n",
      "0\n",
      "4\n",
      "0\n",
      "0\n",
      "3\n",
      "0\n",
      "3\n",
      "4\n",
      "0\n",
      "0\n",
      "5\n",
      "0\n",
      "3\n",
      "5\n",
      "0\n",
      "0\n",
      "0\n",
      "5\n",
      "0\n",
      "0\n",
      "1\n",
      "3\n",
      "3\n",
      "2\n",
      "3\n",
      "3\n",
      "3\n",
      "0\n",
      "0\n",
      "0\n",
      "3\n",
      "1\n",
      "5\n",
      "5\n",
      "4\n",
      "3\n",
      "3\n",
      "0\n",
      "1\n",
      "0\n",
      "2\n",
      "5\n",
      "3\n",
      "0\n",
      "0\n",
      "0\n",
      "0\n",
      "2\n",
      "3\n",
      "3\n"
     ]
    }
   ],
   "source": [
    "#checking the predictions\n",
    "for i in predictions:\n",
    "    print(i)"
   ]
  },
  {
   "cell_type": "code",
   "execution_count": 90,
   "metadata": {},
   "outputs": [],
   "source": [
    "from sklearn.metrics import confusion_matrix ,classification_report"
   ]
  },
  {
   "cell_type": "code",
   "execution_count": 91,
   "metadata": {},
   "outputs": [
    {
     "data": {
      "text/plain": [
       "array([[109,   0,   4,   8,   0,   0],\n",
       "       [  5,  20,   0,   0,   0,   0],\n",
       "       [  6,   0,  23,   0,   0,   0],\n",
       "       [  0,   0,   0,  62,   0,   2],\n",
       "       [  0,   0,   0,   1,   9,   0],\n",
       "       [  0,   0,   2,   1,   0,  15]])"
      ]
     },
     "execution_count": 91,
     "metadata": {},
     "output_type": "execute_result"
    }
   ],
   "source": [
    "cm=confusion_matrix(y_test,predictions)\n",
    "cm"
   ]
  },
  {
   "cell_type": "code",
   "execution_count": 92,
   "metadata": {},
   "outputs": [
    {
     "data": {
      "text/plain": [
       "<matplotlib.axes._subplots.AxesSubplot at 0x7f2e38315710>"
      ]
     },
     "execution_count": 92,
     "metadata": {},
     "output_type": "execute_result"
    },
    {
     "data": {
      "image/png": "[encoded data removed]",
      "text/plain": [
       "<Figure size 576x396 with 2 Axes>"
      ]
     },
     "metadata": {},
     "output_type": "display_data"
    }
   ],
   "source": [
    "#plot of the confusion matrix\n",
    "import seaborn as sns\n",
    "sns.heatmap(cm,annot=True)\n",
    "   "
   ]
  },
  {
   "cell_type": "code",
   "execution_count": 93,
   "metadata": {},
   "outputs": [
    {
     "name": "stdout",
     "output_type": "stream",
     "text": [
      "              precision    recall  f1-score   support\n",
      "\n",
      "           0       0.91      0.90      0.90       121\n",
      "           1       1.00      0.80      0.89        25\n",
      "           2       0.79      0.79      0.79        29\n",
      "           3       0.86      0.97      0.91        64\n",
      "           4       1.00      0.90      0.95        10\n",
      "           5       0.88      0.83      0.86        18\n",
      "\n",
      "    accuracy                           0.89       267\n",
      "   macro avg       0.91      0.87      0.88       267\n",
      "weighted avg       0.89      0.89      0.89       267\n",
      "\n"
     ]
    }
   ],
   "source": [
    "print(classification_report(y_test,predictions))"
   ]
  },
  {
   "cell_type": "code",
   "execution_count": null,
   "metadata": {},
   "outputs": [],
   "source": []
  }
 ],
 "metadata": {
  "kernelspec": {
   "display_name": "Python 3",
   "language": "python",
   "name": "python3"
  },
  "language_info": {
   "codemirror_mode": {
    "name": "ipython",
    "version": 3
   },
   "file_extension": ".py",
   "mimetype": "text/x-python",
   "name": "python",
   "nbconvert_exporter": "python",
   "pygments_lexer": "ipython3",
   "version": "3.7.6"
  }
 },
 "nbformat": 4,
 "nbformat_minor": 4
}
